{
  "nbformat": 4,
  "nbformat_minor": 0,
  "metadata": {
    "colab": {
      "name": "클러스터링.ipynb",
      "provenance": [],
      "collapsed_sections": []
    },
    "kernelspec": {
      "name": "python3",
      "display_name": "Python 3"
    },
    "language_info": {
      "name": "python"
    }
  },
  "cells": [
    {
      "cell_type": "code",
      "execution_count": null,
      "metadata": {
        "colab": {
          "base_uri": "https://localhost:8080/"
        },
        "id": "2rAUgSKKkD8P",
        "outputId": "0c6152bd-7bc6-4c59-cdff-7d464defcbce"
      },
      "outputs": [
        {
          "output_type": "stream",
          "name": "stdout",
          "text": [
            "Mounted at /content/gdrive\n"
          ]
        }
      ],
      "source": [
        "from google.colab import drive\n",
        "drive.mount('/content/gdrive')"
      ]
    },
    {
      "cell_type": "code",
      "source": [
        "import io\n",
        "import pandas as pd"
      ],
      "metadata": {
        "id": "3HBVLdfHkKRK"
      },
      "execution_count": null,
      "outputs": []
    },
    {
      "cell_type": "code",
      "source": [
        "file_name1 = '/content/gdrive/MyDrive/기계학습 기초/클러스터링 데이터 셋/클러스터링 데이터셋-완료.xlsx'"
      ],
      "metadata": {
        "id": "kTsGBJOgkihP"
      },
      "execution_count": null,
      "outputs": []
    },
    {
      "cell_type": "code",
      "source": [
        "df1 = pd.read_excel(file_name1)"
      ],
      "metadata": {
        "id": "XR6AcBdWmqHb"
      },
      "execution_count": null,
      "outputs": []
    },
    {
      "cell_type": "code",
      "source": [
        "df1"
      ],
      "metadata": {
        "colab": {
          "base_uri": "https://localhost:8080/",
          "height": 424
        },
        "id": "NMgZbi6rmsES",
        "outputId": "416b0a40-e86b-4e8f-966a-a6a3596b12c8"
      },
      "execution_count": null,
      "outputs": [
        {
          "output_type": "execute_result",
          "data": {
            "text/plain": [
              "     Unnamed: 0   행정동  교과학원분야_소비인구      동네가게_소비인구      약국분야_소비인구  \\\n",
              "0             0  가락2동  1453.647328  659214.077308  128175.727819   \n",
              "1             1  가락본동    44.958165  341254.949849  175231.940299   \n",
              "2             2   가산동   929.135406  459869.574621  223007.483419   \n",
              "3             3  갈현1동   269.748989  449199.503513  121919.049886   \n",
              "4             4  갈현2동  7050.938845  785628.943668  130303.747620   \n",
              "..          ...   ...          ...            ...            ...   \n",
              "325         325  화곡본동   457.074675  826218.673447  117588.080011   \n",
              "326         326  화명1동    22.479082  443699.621353   40020.259694   \n",
              "327         327  화명3동  4428.379232   46943.817072  143266.685133   \n",
              "328         328  휘경1동    67.437247  426637.997812   76294.005653   \n",
              "329         329   흑석동    59.944220  453050.919627  191881.447328   \n",
              "\n",
              "       외식 일식 소비 인구     중식/양식 소비인구    유흥분야_소비인구   자동차관련_소비인구  면적 대비 커피 소비 인구  \\\n",
              "0      7269.934552   55873.333479     0.000000  3274.453003   113129.104252   \n",
              "1     23189.109899   76509.583760   854.205131  4503.309507   327763.588121   \n",
              "2    128283.100900  259317.193802    44.958165  8811.800300   669329.545445   \n",
              "3     25863.897139   65284.621920  6601.357197    67.437247   168987.081267   \n",
              "4     17321.343016   74002.447002   434.595593  1078.995955   150453.747312   \n",
              "..             ...            ...          ...          ...             ...   \n",
              "325    4381.773970   12627.129511     0.000000   142.367522   114857.406716   \n",
              "326       0.000000      53.343335     0.000000     0.000000    20715.923925   \n",
              "327   17245.138252   53259.510049  2180.470993   561.977060   131306.242181   \n",
              "328       0.000000    8146.289346     0.000000    22.479082   168949.928799   \n",
              "329   10782.974205   71068.563561     0.000000     0.000000   184863.691890   \n",
              "\n",
              "     label  \n",
              "0        2  \n",
              "1        1  \n",
              "2        1  \n",
              "3        2  \n",
              "4        2  \n",
              "..     ...  \n",
              "325      2  \n",
              "326      2  \n",
              "327      2  \n",
              "328      2  \n",
              "329      2  \n",
              "\n",
              "[330 rows x 11 columns]"
            ],
            "text/html": [
              "\n",
              "  <div id=\"df-d2f2bd9f-28b3-4186-93fe-a1b88d3205f6\">\n",
              "    <div class=\"colab-df-container\">\n",
              "      <div>\n",
              "<style scoped>\n",
              "    .dataframe tbody tr th:only-of-type {\n",
              "        vertical-align: middle;\n",
              "    }\n",
              "\n",
              "    .dataframe tbody tr th {\n",
              "        vertical-align: top;\n",
              "    }\n",
              "\n",
              "    .dataframe thead th {\n",
              "        text-align: right;\n",
              "    }\n",
              "</style>\n",
              "<table border=\"1\" class=\"dataframe\">\n",
              "  <thead>\n",
              "    <tr style=\"text-align: right;\">\n",
              "      <th></th>\n",
              "      <th>Unnamed: 0</th>\n",
              "      <th>행정동</th>\n",
              "      <th>교과학원분야_소비인구</th>\n",
              "      <th>동네가게_소비인구</th>\n",
              "      <th>약국분야_소비인구</th>\n",
              "      <th>외식 일식 소비 인구</th>\n",
              "      <th>중식/양식 소비인구</th>\n",
              "      <th>유흥분야_소비인구</th>\n",
              "      <th>자동차관련_소비인구</th>\n",
              "      <th>면적 대비 커피 소비 인구</th>\n",
              "      <th>label</th>\n",
              "    </tr>\n",
              "  </thead>\n",
              "  <tbody>\n",
              "    <tr>\n",
              "      <th>0</th>\n",
              "      <td>0</td>\n",
              "      <td>가락2동</td>\n",
              "      <td>1453.647328</td>\n",
              "      <td>659214.077308</td>\n",
              "      <td>128175.727819</td>\n",
              "      <td>7269.934552</td>\n",
              "      <td>55873.333479</td>\n",
              "      <td>0.000000</td>\n",
              "      <td>3274.453003</td>\n",
              "      <td>113129.104252</td>\n",
              "      <td>2</td>\n",
              "    </tr>\n",
              "    <tr>\n",
              "      <th>1</th>\n",
              "      <td>1</td>\n",
              "      <td>가락본동</td>\n",
              "      <td>44.958165</td>\n",
              "      <td>341254.949849</td>\n",
              "      <td>175231.940299</td>\n",
              "      <td>23189.109899</td>\n",
              "      <td>76509.583760</td>\n",
              "      <td>854.205131</td>\n",
              "      <td>4503.309507</td>\n",
              "      <td>327763.588121</td>\n",
              "      <td>1</td>\n",
              "    </tr>\n",
              "    <tr>\n",
              "      <th>2</th>\n",
              "      <td>2</td>\n",
              "      <td>가산동</td>\n",
              "      <td>929.135406</td>\n",
              "      <td>459869.574621</td>\n",
              "      <td>223007.483419</td>\n",
              "      <td>128283.100900</td>\n",
              "      <td>259317.193802</td>\n",
              "      <td>44.958165</td>\n",
              "      <td>8811.800300</td>\n",
              "      <td>669329.545445</td>\n",
              "      <td>1</td>\n",
              "    </tr>\n",
              "    <tr>\n",
              "      <th>3</th>\n",
              "      <td>3</td>\n",
              "      <td>갈현1동</td>\n",
              "      <td>269.748989</td>\n",
              "      <td>449199.503513</td>\n",
              "      <td>121919.049886</td>\n",
              "      <td>25863.897139</td>\n",
              "      <td>65284.621920</td>\n",
              "      <td>6601.357197</td>\n",
              "      <td>67.437247</td>\n",
              "      <td>168987.081267</td>\n",
              "      <td>2</td>\n",
              "    </tr>\n",
              "    <tr>\n",
              "      <th>4</th>\n",
              "      <td>4</td>\n",
              "      <td>갈현2동</td>\n",
              "      <td>7050.938845</td>\n",
              "      <td>785628.943668</td>\n",
              "      <td>130303.747620</td>\n",
              "      <td>17321.343016</td>\n",
              "      <td>74002.447002</td>\n",
              "      <td>434.595593</td>\n",
              "      <td>1078.995955</td>\n",
              "      <td>150453.747312</td>\n",
              "      <td>2</td>\n",
              "    </tr>\n",
              "    <tr>\n",
              "      <th>...</th>\n",
              "      <td>...</td>\n",
              "      <td>...</td>\n",
              "      <td>...</td>\n",
              "      <td>...</td>\n",
              "      <td>...</td>\n",
              "      <td>...</td>\n",
              "      <td>...</td>\n",
              "      <td>...</td>\n",
              "      <td>...</td>\n",
              "      <td>...</td>\n",
              "      <td>...</td>\n",
              "    </tr>\n",
              "    <tr>\n",
              "      <th>325</th>\n",
              "      <td>325</td>\n",
              "      <td>화곡본동</td>\n",
              "      <td>457.074675</td>\n",
              "      <td>826218.673447</td>\n",
              "      <td>117588.080011</td>\n",
              "      <td>4381.773970</td>\n",
              "      <td>12627.129511</td>\n",
              "      <td>0.000000</td>\n",
              "      <td>142.367522</td>\n",
              "      <td>114857.406716</td>\n",
              "      <td>2</td>\n",
              "    </tr>\n",
              "    <tr>\n",
              "      <th>326</th>\n",
              "      <td>326</td>\n",
              "      <td>화명1동</td>\n",
              "      <td>22.479082</td>\n",
              "      <td>443699.621353</td>\n",
              "      <td>40020.259694</td>\n",
              "      <td>0.000000</td>\n",
              "      <td>53.343335</td>\n",
              "      <td>0.000000</td>\n",
              "      <td>0.000000</td>\n",
              "      <td>20715.923925</td>\n",
              "      <td>2</td>\n",
              "    </tr>\n",
              "    <tr>\n",
              "      <th>327</th>\n",
              "      <td>327</td>\n",
              "      <td>화명3동</td>\n",
              "      <td>4428.379232</td>\n",
              "      <td>46943.817072</td>\n",
              "      <td>143266.685133</td>\n",
              "      <td>17245.138252</td>\n",
              "      <td>53259.510049</td>\n",
              "      <td>2180.470993</td>\n",
              "      <td>561.977060</td>\n",
              "      <td>131306.242181</td>\n",
              "      <td>2</td>\n",
              "    </tr>\n",
              "    <tr>\n",
              "      <th>328</th>\n",
              "      <td>328</td>\n",
              "      <td>휘경1동</td>\n",
              "      <td>67.437247</td>\n",
              "      <td>426637.997812</td>\n",
              "      <td>76294.005653</td>\n",
              "      <td>0.000000</td>\n",
              "      <td>8146.289346</td>\n",
              "      <td>0.000000</td>\n",
              "      <td>22.479082</td>\n",
              "      <td>168949.928799</td>\n",
              "      <td>2</td>\n",
              "    </tr>\n",
              "    <tr>\n",
              "      <th>329</th>\n",
              "      <td>329</td>\n",
              "      <td>흑석동</td>\n",
              "      <td>59.944220</td>\n",
              "      <td>453050.919627</td>\n",
              "      <td>191881.447328</td>\n",
              "      <td>10782.974205</td>\n",
              "      <td>71068.563561</td>\n",
              "      <td>0.000000</td>\n",
              "      <td>0.000000</td>\n",
              "      <td>184863.691890</td>\n",
              "      <td>2</td>\n",
              "    </tr>\n",
              "  </tbody>\n",
              "</table>\n",
              "<p>330 rows × 11 columns</p>\n",
              "</div>\n",
              "      <button class=\"colab-df-convert\" onclick=\"convertToInteractive('df-d2f2bd9f-28b3-4186-93fe-a1b88d3205f6')\"\n",
              "              title=\"Convert this dataframe to an interactive table.\"\n",
              "              style=\"display:none;\">\n",
              "        \n",
              "  <svg xmlns=\"http://www.w3.org/2000/svg\" height=\"24px\"viewBox=\"0 0 24 24\"\n",
              "       width=\"24px\">\n",
              "    <path d=\"M0 0h24v24H0V0z\" fill=\"none\"/>\n",
              "    <path d=\"M18.56 5.44l.94 2.06.94-2.06 2.06-.94-2.06-.94-.94-2.06-.94 2.06-2.06.94zm-11 1L8.5 8.5l.94-2.06 2.06-.94-2.06-.94L8.5 2.5l-.94 2.06-2.06.94zm10 10l.94 2.06.94-2.06 2.06-.94-2.06-.94-.94-2.06-.94 2.06-2.06.94z\"/><path d=\"M17.41 7.96l-1.37-1.37c-.4-.4-.92-.59-1.43-.59-.52 0-1.04.2-1.43.59L10.3 9.45l-7.72 7.72c-.78.78-.78 2.05 0 2.83L4 21.41c.39.39.9.59 1.41.59.51 0 1.02-.2 1.41-.59l7.78-7.78 2.81-2.81c.8-.78.8-2.07 0-2.86zM5.41 20L4 18.59l7.72-7.72 1.47 1.35L5.41 20z\"/>\n",
              "  </svg>\n",
              "      </button>\n",
              "      \n",
              "  <style>\n",
              "    .colab-df-container {\n",
              "      display:flex;\n",
              "      flex-wrap:wrap;\n",
              "      gap: 12px;\n",
              "    }\n",
              "\n",
              "    .colab-df-convert {\n",
              "      background-color: #E8F0FE;\n",
              "      border: none;\n",
              "      border-radius: 50%;\n",
              "      cursor: pointer;\n",
              "      display: none;\n",
              "      fill: #1967D2;\n",
              "      height: 32px;\n",
              "      padding: 0 0 0 0;\n",
              "      width: 32px;\n",
              "    }\n",
              "\n",
              "    .colab-df-convert:hover {\n",
              "      background-color: #E2EBFA;\n",
              "      box-shadow: 0px 1px 2px rgba(60, 64, 67, 0.3), 0px 1px 3px 1px rgba(60, 64, 67, 0.15);\n",
              "      fill: #174EA6;\n",
              "    }\n",
              "\n",
              "    [theme=dark] .colab-df-convert {\n",
              "      background-color: #3B4455;\n",
              "      fill: #D2E3FC;\n",
              "    }\n",
              "\n",
              "    [theme=dark] .colab-df-convert:hover {\n",
              "      background-color: #434B5C;\n",
              "      box-shadow: 0px 1px 3px 1px rgba(0, 0, 0, 0.15);\n",
              "      filter: drop-shadow(0px 1px 2px rgba(0, 0, 0, 0.3));\n",
              "      fill: #FFFFFF;\n",
              "    }\n",
              "  </style>\n",
              "\n",
              "      <script>\n",
              "        const buttonEl =\n",
              "          document.querySelector('#df-d2f2bd9f-28b3-4186-93fe-a1b88d3205f6 button.colab-df-convert');\n",
              "        buttonEl.style.display =\n",
              "          google.colab.kernel.accessAllowed ? 'block' : 'none';\n",
              "\n",
              "        async function convertToInteractive(key) {\n",
              "          const element = document.querySelector('#df-d2f2bd9f-28b3-4186-93fe-a1b88d3205f6');\n",
              "          const dataTable =\n",
              "            await google.colab.kernel.invokeFunction('convertToInteractive',\n",
              "                                                     [key], {});\n",
              "          if (!dataTable) return;\n",
              "\n",
              "          const docLinkHtml = 'Like what you see? Visit the ' +\n",
              "            '<a target=\"_blank\" href=https://colab.research.google.com/notebooks/data_table.ipynb>data table notebook</a>'\n",
              "            + ' to learn more about interactive tables.';\n",
              "          element.innerHTML = '';\n",
              "          dataTable['output_type'] = 'display_data';\n",
              "          await google.colab.output.renderOutput(dataTable, element);\n",
              "          const docLink = document.createElement('div');\n",
              "          docLink.innerHTML = docLinkHtml;\n",
              "          element.appendChild(docLink);\n",
              "        }\n",
              "      </script>\n",
              "    </div>\n",
              "  </div>\n",
              "  "
            ]
          },
          "metadata": {},
          "execution_count": 5
        }
      ]
    },
    {
      "cell_type": "code",
      "source": [
        "df1.columns"
      ],
      "metadata": {
        "colab": {
          "base_uri": "https://localhost:8080/"
        },
        "id": "S6Kh3xTqm1wv",
        "outputId": "b8289a5b-cf49-46ac-c807-579828a4b418"
      },
      "execution_count": null,
      "outputs": [
        {
          "output_type": "execute_result",
          "data": {
            "text/plain": [
              "Index(['Unnamed: 0', '행정동', '교과학원분야_소비인구', '동네가게_소비인구', '약국분야_소비인구',\n",
              "       '외식 일식 소비 인구', '중식/양식 소비인구', '유흥분야_소비인구', '자동차관련_소비인구',\n",
              "       '면적 대비 커피 소비 인구', 'label'],\n",
              "      dtype='object')"
            ]
          },
          "metadata": {},
          "execution_count": 6
        }
      ]
    },
    {
      "cell_type": "code",
      "source": [
        "df1 = df1[['행정동', '교과학원분야_소비인구', '동네가게_소비인구', '약국분야_소비인구',\n",
        "       '외식 일식 소비 인구', '중식/양식 소비인구', '유흥분야_소비인구', '자동차관련_소비인구',\n",
        "       '면적 대비 커피 소비 인구', 'label']]"
      ],
      "metadata": {
        "id": "UJ13HIBGmtXz"
      },
      "execution_count": null,
      "outputs": []
    },
    {
      "cell_type": "code",
      "source": [
        "df1"
      ],
      "metadata": {
        "colab": {
          "base_uri": "https://localhost:8080/",
          "height": 424
        },
        "id": "el6CSp50m5jR",
        "outputId": "b7a2c8fe-57ad-4671-bc4f-0fcfe51b8234"
      },
      "execution_count": null,
      "outputs": [
        {
          "output_type": "execute_result",
          "data": {
            "text/plain": [
              "      행정동  교과학원분야_소비인구      동네가게_소비인구      약국분야_소비인구    외식 일식 소비 인구  \\\n",
              "0    가락2동  1453.647328  659214.077308  128175.727819    7269.934552   \n",
              "1    가락본동    44.958165  341254.949849  175231.940299   23189.109899   \n",
              "2     가산동   929.135406  459869.574621  223007.483419  128283.100900   \n",
              "3    갈현1동   269.748989  449199.503513  121919.049886   25863.897139   \n",
              "4    갈현2동  7050.938845  785628.943668  130303.747620   17321.343016   \n",
              "..    ...          ...            ...            ...            ...   \n",
              "325  화곡본동   457.074675  826218.673447  117588.080011    4381.773970   \n",
              "326  화명1동    22.479082  443699.621353   40020.259694       0.000000   \n",
              "327  화명3동  4428.379232   46943.817072  143266.685133   17245.138252   \n",
              "328  휘경1동    67.437247  426637.997812   76294.005653       0.000000   \n",
              "329   흑석동    59.944220  453050.919627  191881.447328   10782.974205   \n",
              "\n",
              "        중식/양식 소비인구    유흥분야_소비인구   자동차관련_소비인구  면적 대비 커피 소비 인구  label  \n",
              "0     55873.333479     0.000000  3274.453003   113129.104252      2  \n",
              "1     76509.583760   854.205131  4503.309507   327763.588121      1  \n",
              "2    259317.193802    44.958165  8811.800300   669329.545445      1  \n",
              "3     65284.621920  6601.357197    67.437247   168987.081267      2  \n",
              "4     74002.447002   434.595593  1078.995955   150453.747312      2  \n",
              "..             ...          ...          ...             ...    ...  \n",
              "325   12627.129511     0.000000   142.367522   114857.406716      2  \n",
              "326      53.343335     0.000000     0.000000    20715.923925      2  \n",
              "327   53259.510049  2180.470993   561.977060   131306.242181      2  \n",
              "328    8146.289346     0.000000    22.479082   168949.928799      2  \n",
              "329   71068.563561     0.000000     0.000000   184863.691890      2  \n",
              "\n",
              "[330 rows x 10 columns]"
            ],
            "text/html": [
              "\n",
              "  <div id=\"df-8d4ded53-c9d4-4ac9-88e0-1fbad1367d85\">\n",
              "    <div class=\"colab-df-container\">\n",
              "      <div>\n",
              "<style scoped>\n",
              "    .dataframe tbody tr th:only-of-type {\n",
              "        vertical-align: middle;\n",
              "    }\n",
              "\n",
              "    .dataframe tbody tr th {\n",
              "        vertical-align: top;\n",
              "    }\n",
              "\n",
              "    .dataframe thead th {\n",
              "        text-align: right;\n",
              "    }\n",
              "</style>\n",
              "<table border=\"1\" class=\"dataframe\">\n",
              "  <thead>\n",
              "    <tr style=\"text-align: right;\">\n",
              "      <th></th>\n",
              "      <th>행정동</th>\n",
              "      <th>교과학원분야_소비인구</th>\n",
              "      <th>동네가게_소비인구</th>\n",
              "      <th>약국분야_소비인구</th>\n",
              "      <th>외식 일식 소비 인구</th>\n",
              "      <th>중식/양식 소비인구</th>\n",
              "      <th>유흥분야_소비인구</th>\n",
              "      <th>자동차관련_소비인구</th>\n",
              "      <th>면적 대비 커피 소비 인구</th>\n",
              "      <th>label</th>\n",
              "    </tr>\n",
              "  </thead>\n",
              "  <tbody>\n",
              "    <tr>\n",
              "      <th>0</th>\n",
              "      <td>가락2동</td>\n",
              "      <td>1453.647328</td>\n",
              "      <td>659214.077308</td>\n",
              "      <td>128175.727819</td>\n",
              "      <td>7269.934552</td>\n",
              "      <td>55873.333479</td>\n",
              "      <td>0.000000</td>\n",
              "      <td>3274.453003</td>\n",
              "      <td>113129.104252</td>\n",
              "      <td>2</td>\n",
              "    </tr>\n",
              "    <tr>\n",
              "      <th>1</th>\n",
              "      <td>가락본동</td>\n",
              "      <td>44.958165</td>\n",
              "      <td>341254.949849</td>\n",
              "      <td>175231.940299</td>\n",
              "      <td>23189.109899</td>\n",
              "      <td>76509.583760</td>\n",
              "      <td>854.205131</td>\n",
              "      <td>4503.309507</td>\n",
              "      <td>327763.588121</td>\n",
              "      <td>1</td>\n",
              "    </tr>\n",
              "    <tr>\n",
              "      <th>2</th>\n",
              "      <td>가산동</td>\n",
              "      <td>929.135406</td>\n",
              "      <td>459869.574621</td>\n",
              "      <td>223007.483419</td>\n",
              "      <td>128283.100900</td>\n",
              "      <td>259317.193802</td>\n",
              "      <td>44.958165</td>\n",
              "      <td>8811.800300</td>\n",
              "      <td>669329.545445</td>\n",
              "      <td>1</td>\n",
              "    </tr>\n",
              "    <tr>\n",
              "      <th>3</th>\n",
              "      <td>갈현1동</td>\n",
              "      <td>269.748989</td>\n",
              "      <td>449199.503513</td>\n",
              "      <td>121919.049886</td>\n",
              "      <td>25863.897139</td>\n",
              "      <td>65284.621920</td>\n",
              "      <td>6601.357197</td>\n",
              "      <td>67.437247</td>\n",
              "      <td>168987.081267</td>\n",
              "      <td>2</td>\n",
              "    </tr>\n",
              "    <tr>\n",
              "      <th>4</th>\n",
              "      <td>갈현2동</td>\n",
              "      <td>7050.938845</td>\n",
              "      <td>785628.943668</td>\n",
              "      <td>130303.747620</td>\n",
              "      <td>17321.343016</td>\n",
              "      <td>74002.447002</td>\n",
              "      <td>434.595593</td>\n",
              "      <td>1078.995955</td>\n",
              "      <td>150453.747312</td>\n",
              "      <td>2</td>\n",
              "    </tr>\n",
              "    <tr>\n",
              "      <th>...</th>\n",
              "      <td>...</td>\n",
              "      <td>...</td>\n",
              "      <td>...</td>\n",
              "      <td>...</td>\n",
              "      <td>...</td>\n",
              "      <td>...</td>\n",
              "      <td>...</td>\n",
              "      <td>...</td>\n",
              "      <td>...</td>\n",
              "      <td>...</td>\n",
              "    </tr>\n",
              "    <tr>\n",
              "      <th>325</th>\n",
              "      <td>화곡본동</td>\n",
              "      <td>457.074675</td>\n",
              "      <td>826218.673447</td>\n",
              "      <td>117588.080011</td>\n",
              "      <td>4381.773970</td>\n",
              "      <td>12627.129511</td>\n",
              "      <td>0.000000</td>\n",
              "      <td>142.367522</td>\n",
              "      <td>114857.406716</td>\n",
              "      <td>2</td>\n",
              "    </tr>\n",
              "    <tr>\n",
              "      <th>326</th>\n",
              "      <td>화명1동</td>\n",
              "      <td>22.479082</td>\n",
              "      <td>443699.621353</td>\n",
              "      <td>40020.259694</td>\n",
              "      <td>0.000000</td>\n",
              "      <td>53.343335</td>\n",
              "      <td>0.000000</td>\n",
              "      <td>0.000000</td>\n",
              "      <td>20715.923925</td>\n",
              "      <td>2</td>\n",
              "    </tr>\n",
              "    <tr>\n",
              "      <th>327</th>\n",
              "      <td>화명3동</td>\n",
              "      <td>4428.379232</td>\n",
              "      <td>46943.817072</td>\n",
              "      <td>143266.685133</td>\n",
              "      <td>17245.138252</td>\n",
              "      <td>53259.510049</td>\n",
              "      <td>2180.470993</td>\n",
              "      <td>561.977060</td>\n",
              "      <td>131306.242181</td>\n",
              "      <td>2</td>\n",
              "    </tr>\n",
              "    <tr>\n",
              "      <th>328</th>\n",
              "      <td>휘경1동</td>\n",
              "      <td>67.437247</td>\n",
              "      <td>426637.997812</td>\n",
              "      <td>76294.005653</td>\n",
              "      <td>0.000000</td>\n",
              "      <td>8146.289346</td>\n",
              "      <td>0.000000</td>\n",
              "      <td>22.479082</td>\n",
              "      <td>168949.928799</td>\n",
              "      <td>2</td>\n",
              "    </tr>\n",
              "    <tr>\n",
              "      <th>329</th>\n",
              "      <td>흑석동</td>\n",
              "      <td>59.944220</td>\n",
              "      <td>453050.919627</td>\n",
              "      <td>191881.447328</td>\n",
              "      <td>10782.974205</td>\n",
              "      <td>71068.563561</td>\n",
              "      <td>0.000000</td>\n",
              "      <td>0.000000</td>\n",
              "      <td>184863.691890</td>\n",
              "      <td>2</td>\n",
              "    </tr>\n",
              "  </tbody>\n",
              "</table>\n",
              "<p>330 rows × 10 columns</p>\n",
              "</div>\n",
              "      <button class=\"colab-df-convert\" onclick=\"convertToInteractive('df-8d4ded53-c9d4-4ac9-88e0-1fbad1367d85')\"\n",
              "              title=\"Convert this dataframe to an interactive table.\"\n",
              "              style=\"display:none;\">\n",
              "        \n",
              "  <svg xmlns=\"http://www.w3.org/2000/svg\" height=\"24px\"viewBox=\"0 0 24 24\"\n",
              "       width=\"24px\">\n",
              "    <path d=\"M0 0h24v24H0V0z\" fill=\"none\"/>\n",
              "    <path d=\"M18.56 5.44l.94 2.06.94-2.06 2.06-.94-2.06-.94-.94-2.06-.94 2.06-2.06.94zm-11 1L8.5 8.5l.94-2.06 2.06-.94-2.06-.94L8.5 2.5l-.94 2.06-2.06.94zm10 10l.94 2.06.94-2.06 2.06-.94-2.06-.94-.94-2.06-.94 2.06-2.06.94z\"/><path d=\"M17.41 7.96l-1.37-1.37c-.4-.4-.92-.59-1.43-.59-.52 0-1.04.2-1.43.59L10.3 9.45l-7.72 7.72c-.78.78-.78 2.05 0 2.83L4 21.41c.39.39.9.59 1.41.59.51 0 1.02-.2 1.41-.59l7.78-7.78 2.81-2.81c.8-.78.8-2.07 0-2.86zM5.41 20L4 18.59l7.72-7.72 1.47 1.35L5.41 20z\"/>\n",
              "  </svg>\n",
              "      </button>\n",
              "      \n",
              "  <style>\n",
              "    .colab-df-container {\n",
              "      display:flex;\n",
              "      flex-wrap:wrap;\n",
              "      gap: 12px;\n",
              "    }\n",
              "\n",
              "    .colab-df-convert {\n",
              "      background-color: #E8F0FE;\n",
              "      border: none;\n",
              "      border-radius: 50%;\n",
              "      cursor: pointer;\n",
              "      display: none;\n",
              "      fill: #1967D2;\n",
              "      height: 32px;\n",
              "      padding: 0 0 0 0;\n",
              "      width: 32px;\n",
              "    }\n",
              "\n",
              "    .colab-df-convert:hover {\n",
              "      background-color: #E2EBFA;\n",
              "      box-shadow: 0px 1px 2px rgba(60, 64, 67, 0.3), 0px 1px 3px 1px rgba(60, 64, 67, 0.15);\n",
              "      fill: #174EA6;\n",
              "    }\n",
              "\n",
              "    [theme=dark] .colab-df-convert {\n",
              "      background-color: #3B4455;\n",
              "      fill: #D2E3FC;\n",
              "    }\n",
              "\n",
              "    [theme=dark] .colab-df-convert:hover {\n",
              "      background-color: #434B5C;\n",
              "      box-shadow: 0px 1px 3px 1px rgba(0, 0, 0, 0.15);\n",
              "      filter: drop-shadow(0px 1px 2px rgba(0, 0, 0, 0.3));\n",
              "      fill: #FFFFFF;\n",
              "    }\n",
              "  </style>\n",
              "\n",
              "      <script>\n",
              "        const buttonEl =\n",
              "          document.querySelector('#df-8d4ded53-c9d4-4ac9-88e0-1fbad1367d85 button.colab-df-convert');\n",
              "        buttonEl.style.display =\n",
              "          google.colab.kernel.accessAllowed ? 'block' : 'none';\n",
              "\n",
              "        async function convertToInteractive(key) {\n",
              "          const element = document.querySelector('#df-8d4ded53-c9d4-4ac9-88e0-1fbad1367d85');\n",
              "          const dataTable =\n",
              "            await google.colab.kernel.invokeFunction('convertToInteractive',\n",
              "                                                     [key], {});\n",
              "          if (!dataTable) return;\n",
              "\n",
              "          const docLinkHtml = 'Like what you see? Visit the ' +\n",
              "            '<a target=\"_blank\" href=https://colab.research.google.com/notebooks/data_table.ipynb>data table notebook</a>'\n",
              "            + ' to learn more about interactive tables.';\n",
              "          element.innerHTML = '';\n",
              "          dataTable['output_type'] = 'display_data';\n",
              "          await google.colab.output.renderOutput(dataTable, element);\n",
              "          const docLink = document.createElement('div');\n",
              "          docLink.innerHTML = docLinkHtml;\n",
              "          element.appendChild(docLink);\n",
              "        }\n",
              "      </script>\n",
              "    </div>\n",
              "  </div>\n",
              "  "
            ]
          },
          "metadata": {},
          "execution_count": 8
        }
      ]
    },
    {
      "cell_type": "code",
      "source": [
        "X = df1[['교과학원분야_소비인구', '동네가게_소비인구', '약국분야_소비인구',\n",
        "       '외식 일식 소비 인구', '중식/양식 소비인구', '유흥분야_소비인구', '자동차관련_소비인구',\n",
        "       '면적 대비 커피 소비 인구']]"
      ],
      "metadata": {
        "id": "BgKyt2Qy4nrR"
      },
      "execution_count": null,
      "outputs": []
    },
    {
      "cell_type": "code",
      "source": [
        "from sklearn.preprocessing import MinMaxScaler"
      ],
      "metadata": {
        "id": "sSiy9aQOg5hN"
      },
      "execution_count": null,
      "outputs": []
    },
    {
      "cell_type": "code",
      "source": [
        "scaler = MinMaxScaler()\n",
        "data_scale = scaler.fit_transform(X)"
      ],
      "metadata": {
        "id": "g6Ww50-_g4QB"
      },
      "execution_count": null,
      "outputs": []
    },
    {
      "cell_type": "code",
      "source": [
        "factor_col = ['교과학원분야_소비인구', '동네가게_소비인구', '약국분야_소비인구', '외식 일식 소비 인구',\n",
        "       '중식/양식 소비인구', '유흥분야_소비인구', '자동차관련_소비인구', '면적 대비 커피 소비 인구']"
      ],
      "metadata": {
        "id": "8E3l8rZOg2OP"
      },
      "execution_count": null,
      "outputs": []
    },
    {
      "cell_type": "code",
      "source": [
        "output = pd.DataFrame(data_scale, columns=factor_col)"
      ],
      "metadata": {
        "id": "BHHb8p6VhLKG"
      },
      "execution_count": null,
      "outputs": []
    },
    {
      "cell_type": "code",
      "source": [
        "import plotly.express as px\n",
        "from sklearn.decomposition import PCA\n",
        "\n",
        "features = ['교과학원분야_소비인구', '동네가게_소비인구', '약국분야_소비인구', '외식 일식 소비 인구',\n",
        "       '중식/양식 소비인구', '유흥분야_소비인구', '자동차관련_소비인구', '면적 대비 커피 소비 인구']\n",
        "\n",
        "pca = PCA()\n",
        "components = pca.fit_transform(output[features])\n",
        "labels = {\n",
        "    str(i): f\"PC {i+1} ({var:.1f}%)\"\n",
        "    for i, var in enumerate(pca.explained_variance_ratio_ * 100)\n",
        "}\n",
        "\n",
        "fig = px.scatter_matrix(\n",
        "    components,\n",
        "    labels=labels,\n",
        "    dimensions=range(4),\n",
        ")\n",
        "fig.update_traces(diagonal_visible=False)\n",
        "fig.show()\n"
      ],
      "metadata": {
        "colab": {
          "base_uri": "https://localhost:8080/",
          "height": 542
        },
        "id": "asLpmCE5hDpf",
        "outputId": "bb289638-de5b-4a1e-dfe2-a458fc20f628"
      },
      "execution_count": null,
      "outputs": [
        {
          "output_type": "display_data",
          "data": {
            "text/html": [
              "<html>\n",
              "<head><meta charset=\"utf-8\" /></head>\n",
              "<body>\n",
              "    <div>            <script src=\"https://cdnjs.cloudflare.com/ajax/libs/mathjax/2.7.5/MathJax.js?config=TeX-AMS-MML_SVG\"></script><script type=\"text/javascript\">if (window.MathJax) {MathJax.Hub.Config({SVG: {font: \"STIX-Web\"}});}</script>                <script type=\"text/javascript\">window.PlotlyConfig = {MathJaxConfig: 'local'};</script>\n",
              "        <script src=\"https://cdn.plot.ly/plotly-2.8.3.min.js\"></script>                <div id=\"9f6ecf55-9f3c-4e7f-85ea-a50884e8fdde\" class=\"plotly-graph-div\" style=\"height:525px; width:100%;\"></div>            <script type=\"text/javascript\">                                    window.PLOTLYENV=window.PLOTLYENV || {};                                    if (document.getElementById(\"9f6ecf55-9f3c-4e7f-85ea-a50884e8fdde\")) {                    Plotly.newPlot(                        \"9f6ecf55-9f3c-4e7f-85ea-a50884e8fdde\",                        [{\"dimensions\":[{\"axis\":{\"matches\":true},\"label\":\"PC 1 (57.7%)\",\"values\":[-0.019300680856478878,0.12060910759100638,0.47990072324628036,0.02638069544557032,0.018448145274755353,-0.14463668304474067,-0.05826660124876271,-0.17952008680106007,-0.04979782934985543,-0.1229760986414102,-0.1434429681948277,-0.08987933052288366,-0.12702761532916285,-0.1024663590397949,-0.024310878285898594,-0.11173820944037936,0.024872787566779398,0.11317162150540426,-0.03512874231945909,-0.12477146775683602,-0.12393941931703654,-0.1538598156765597,0.5942576655906504,0.07901078158054967,0.1049425154910599,-0.10137258714877655,-0.11214163740050258,-0.14500086948199478,0.05757184740859521,-0.11063866223854206,0.14303426637252029,-0.1753148153713765,0.1088313304407021,-0.14245488386978516,-0.012418978478727019,0.18706265868747216,-0.047389837547951834,-0.07752255763002425,-0.09969219259277418,-0.16931531994454127,-0.021680859919246738,-0.14576541868479675,0.056443809981851056,-0.05299342911007163,0.16049428466261687,-0.004706217652186656,-0.09071773479460862,-0.11806946839279915,-0.09618813029310318,-0.019835039732337193,-0.1300250405256633,-0.09741796965989051,0.11230985024401881,-0.07854380699068737,-0.007913756324100182,-0.01995978484255016,-0.14756621036642986,0.14869556218771035,0.1518512594349229,0.23061952983536074,0.6863200613807213,0.023920707721888004,0.022060346456887026,0.04801102132396181,0.04506270122934033,-0.14150388625744645,-0.13057380940399516,-0.07913927175537122,-0.18552556636043535,-0.1672886968576853,-0.18676239003262227,0.29917650174924554,0.05815795197000368,0.12367823082126327,-0.1190516639841981,-0.16396608573258714,-0.0023011335822618775,0.0971602458116527,-0.08978210476457078,-0.12659520964824125,-0.04974676178085728,0.0459242543989337,0.056293527877988685,0.34408698990702746,-0.02186911000862864,0.09014342122968738,-0.06701109183974994,0.052496121270597024,-0.13026795717871528,-0.09541784923948579,0.11380433991074602,-0.06854911085559244,-0.09092239995572841,-0.017882034577897173,-0.11884495352712851,0.054987292810993814,-0.16974153904347258,-0.08726035353052201,0.2572973460107212,-0.14735899490289872,0.117087688651904,0.11696817267022186,-0.13316970151083138,0.04025867632855197,0.00794439323223966,0.024286004748184778,0.1981351593696485,0.05789848481486068,-0.1505952500569591,0.05091231747204582,-0.13209731507105504,-0.014951484824225664,-0.13889670549519154,-0.13260978041251206,-0.14189550329945264,-0.17984613511485398,-0.16137171343140302,0.8707133212082427,-0.1444004824865561,-0.048989874089912365,0.02874483466779204,-0.15741238138722383,0.08015439797012822,0.06893266399563285,-0.12554996699585452,-0.09961191013507735,-0.15554085312173296,-0.05667925593572562,-0.1536082999700939,-0.15397116000435693,0.35986094397589596,-0.09236330680468223,0.024666112329362593,0.17765173986823443,-0.16144435696303094,-0.08155642266952788,0.04572723114398212,-0.18170270648417233,-0.0366322124228927,0.38334084973608706,-0.04980310238700878,0.26680913468809686,-0.09973631330634805,-0.14963699394293797,0.04709231738347563,-0.05524768456827017,0.09160865595610437,-0.1358198626688838,0.05072840671247971,1.30090880277939,-0.1202913439749307,-0.1811249741914966,0.19704378842791967,0.09067230327116613,0.22212565656777308,0.31372933925322355,0.5088206545538162,-0.08468157306594741,0.12790961363520664,0.0440049268297008,0.0630577694538302,-0.12470529327785648,-0.07619865836628283,-0.04664125993832805,-0.0846431698637732,0.29874092088798,0.3994728335911182,-0.13736960156423575,-0.11998858470536909,0.0630058190355934,-0.01938765571050286,0.2465859681971396,-0.10463845808151796,-0.17215150948232785,-0.11138060654433847,-0.12118129972655362,0.030612343676072615,-0.1680652237096077,-0.05497865993285014,-0.0754398627585975,-0.18540724130029418,-0.17352978171133235,-0.028867197334601333,-0.09890873088097728,-0.06358975968416626,-0.087048676645593,-0.08235230870455745,0.11390282126984569,-0.01391969038054058,-0.06661386627126717,-0.16608813370260722,0.9752222860824188,0.5855308854160614,-0.07363984301694719,-0.1262370143048747,-0.16695867922299135,-0.1117557823448263,-0.1342887100674005,-0.13668685732160796,-0.1035820684872347,-0.07045821016888906,-0.05641830551494898,0.12001902961209515,-0.1282523729083725,-0.0584423352291352,0.5338200438322114,-0.05307040594170605,-0.14482940935401103,0.03602417786726437,-0.09612776267746823,-0.1314442405334135,-0.06298032343244273,-0.057312558669592534,-0.15955674651590826,0.32998907955641305,0.01614634298205953,-0.019641857008029118,-0.10788091944194929,-0.02172690347780137,0.5935113060689785,1.7249760294277785,0.21491963736333738,0.01216686405459187,0.3681911497543408,-0.09192129752372631,-0.04846711631475541,-0.026680023636977204,-0.025245223853660934,-0.06670818548067087,-0.078348363862647,-0.15433476916180358,-0.12506044631471805,-0.15098535504461558,-0.11319066921220833,-0.11418041593071009,0.038369727618788194,-0.004854470619873336,0.0932865083933441,-0.07671093112131011,-0.044607406312050804,-0.06959549034074708,-0.18556817067671977,-0.015123252845661121,0.009518469347801593,-0.15838274023783727,-0.13863901206800394,-0.108279840787643,-0.04898541376571071,-0.1465765609584886,-0.023735340157790455,0.034298337881317094,-0.1527889518368579,0.05401831217664901,-0.02836614060717235,-0.14854255833015767,-0.08141979657816938,-0.1126304481831559,-0.06294775421508758,-0.10781607325716418,-0.06169803786622931,0.03934311358041416,-0.08887895089482113,-0.04330310829640451,-0.12518754713769767,-0.09031981915306783,-0.14912913217639942,0.09375653459879205,0.3006234950682781,0.042647888820572466,-0.1209687549635258,0.15309548139246842,0.06855652402264337,-0.09375658123927333,-0.07809145324055587,-0.12148006742418577,-0.0660213301712256,-0.036916721931407125,-0.0966527918086698,-0.12903903000450045,-0.07285712345907172,1.0443080656992765,-0.04205885890509536,-0.009895243697523039,-0.036665026260686934,0.07589668097755257,-0.002608603456315729,-0.07049267164312976,-0.06947653021530653,-0.030493873737609898,-0.012978276036498648,-0.08113178395807859,-0.12045747479061461,0.20714273006153772,0.30692367046452307,-0.15875291888216084,-0.11148196560512542,0.005572625478017259,-0.13021456997500827,-0.0483802247552271,0.08567966299308313,-0.125229442690145,-0.09008484854797363,-0.14391995714483966,0.2817565805235038,-0.059529294493661566,0.09583516993627594,-0.14160359060437677,-0.16879701787861193,0.01705178271540033,-0.026430502498042532,-0.17683120773801317,-0.06988516018200686,0.21464292960990036,0.10706617154528049,-0.1181305065847306,0.028682387214881887,-0.13112255205695078,-0.1002089338856325,-0.1555335943676753,-0.10287628311258745,0.15458897122303877,-0.1614575040432984,-0.02584082221856006,-0.1063254649574945,0.007269638852214136,-0.05541214361205215,-0.15333353999552318,0.008736123707061007,-0.06912726943935844,0.05406647061992974]},{\"axis\":{\"matches\":true},\"label\":\"PC 2 (10.7%)\",\"values\":[-0.019744162183879043,-0.030932865292410076,-0.05279191481227209,-0.04281918875598783,0.01617223617898498,-0.0027431837082135435,-0.015152841273089643,-0.0023978424656542633,-0.013272764698989315,-0.013272825246154526,-0.00947803084381943,-0.0039401605252354635,0.011719839027409439,-0.01739322856720286,-0.005876805799774839,-0.017193310915190215,-0.021959190637224776,-0.038792571048514815,-0.04274002428494257,0.013881281450107549,-0.010558572487509915,-0.005070844893787525,-0.019386097823440314,-0.020171972520004505,-0.04019070423021742,9.582580663299858e-06,0.018469897669033043,-0.007111298975176595,-0.022335158756493542,-0.014022662984368063,0.010046511349256118,0.001077827897597214,-0.03259308502551111,-0.0013231250122430738,-0.033839127347806586,-0.09074809266689904,-0.0015668419083890892,-0.012603582968165406,-0.015548038923356957,-0.0072463003982581,-0.011898963114079328,-0.012641025910795436,-0.03476264429565565,0.01642641956323541,0.07716952996707055,-0.003548433091263587,-0.012733809985506475,-0.016367433761020206,-0.0005906153395314333,0.007898021096872054,-0.0209096721854045,-0.01488593199667189,-0.03788841274713342,-0.010950426559568892,0.05651358745803992,-0.02097709014315143,-0.009654692092090791,-0.05310168002441559,0.923336177650438,0.5184989713706393,0.7679493690690075,-0.0566407073629357,0.02213689726996765,-0.047349157728014665,-0.037908584282339244,0.0052876249893841635,-0.005477371787309701,-0.03410478257798858,0.01257189798849156,-0.003615912985574733,-0.002673748367930653,-0.0026876670100281813,0.018798406382722517,0.0023067636089405008,0.0041326336817515295,-0.005320713628317171,-0.020262459874304226,-0.04655227625778001,-0.008467955666480228,-0.012873855101112452,-0.019919384795448178,0.026524910232238234,0.11632990536888897,0.3090332616443113,-0.01658113803241474,-0.018803084037146825,0.004678392820889074,0.50701296980892,-0.004532733770190672,-0.012094576702136638,-0.001433832786920562,0.012618125738526,-0.02611875922250225,-0.02953552937383369,-0.0126376536719777,-0.029195653725908967,-0.004199026928020777,0.10376306194911074,0.032944753172059645,0.030746817380581146,0.00824808502815956,-0.01964633997401529,-0.013611279405882018,-0.00870442137129768,-0.001725422659646931,0.17623931582482427,0.06559662654661606,0.029257868501576353,-0.007934922704839125,-0.01381769301493257,-0.019380727825740046,-0.03032364966923583,-0.007225923169439068,0.0011277428183343585,0.0019737895042985175,-0.0012983933208211566,-0.004253633540553769,-0.07839927211467385,-0.0068536099005797905,-0.014715073441138118,-0.07549448122386797,-0.003808743463118373,-0.03716380975409511,-0.07442080955905883,0.002325476202104222,-0.012294641212960407,-0.004632204673384905,0.020178007848904517,0.005758149447713762,0.008906068074428218,-0.012919657972783882,-0.0168509386853944,-0.03614235733745605,0.06830487952886874,-0.010951647291834387,-0.02769343212003542,0.015906811269281968,-0.0006096721738644905,-0.0407452411412922,-0.0015606027422806863,0.003992518894337915,-0.08193220575099291,-0.01110551771166766,-0.010996799208784507,-0.016760827141585753,-0.015825409700827592,-0.0689712272291769,-0.011929917296973175,-0.03523670316466632,-0.21885710447083062,0.007952582767498769,-0.00115290838762061,-0.023527494430816122,-0.007826853707964444,0.1288819902772082,-0.00742904348078823,-0.10262920810216664,-0.023684042456134036,-0.02791705278040583,0.021945683306927095,-0.010095863256862932,-0.007014931834077506,0.0010252478448205355,0.01348470640502357,-0.019144606495704628,0.013395805473508679,0.2703176485599573,-0.001472798384210822,-0.014987173045713535,-0.02792288709026927,-0.011815588382930276,-0.029182083766062482,0.003255313351160848,-0.004283925030651233,-0.026741147068051824,-0.010210090477714968,-0.027196654339800702,-0.001431690692521139,-0.018029398021397164,-0.03732411476539065,-0.0017517072539731445,1.603058546365671e-05,-0.0173552274960369,0.00766977423290397,-0.020995050511216654,-0.017889938254873276,-0.0048363336271201336,-0.0372634217754603,-0.026155232641601595,-0.013575492336422464,0.0007793316225065592,-0.04459034505316976,-0.13087364645675637,-0.008269672564400754,-0.011356675285363164,-0.00394310837916642,0.001477683695359553,-0.004201713859184822,-0.008006930407703266,0.00586599870203969,0.08796664264862211,-0.029162992116453915,0.00796363980549506,0.11371159386293472,0.17517198206898849,-0.14504539082795986,-0.011640058496113588,0.0028597832229839385,-0.009320976421656973,-0.017151174125459953,0.004250551974373753,-0.023297121929149726,-0.024851469423354786,0.006317121719491231,-0.024151321791018088,-0.029203906420659544,0.008322107920601495,0.00260249398368537,0.013234652255848604,-0.20298944635979382,-0.009558674307484857,-0.017487534575589426,-0.010487094461989366,-0.002976755933346087,0.01322749349176857,-0.022280014385775218,0.03543271221962094,0.028781435192947912,0.027661775281233418,-0.015518741715206955,-0.0029355018690784664,-0.010221144494901541,-0.014621588150176177,-0.015603080181831246,0.0040229624116534055,-0.017446533228184645,-0.001960606234675767,-0.03206715017457017,-0.008362203654619628,-0.0068141129362145,-0.005134333476273645,-0.001821597749766883,0.028491480352568974,-0.014546813607366076,-0.01077425956382161,-0.01254751303551095,0.004965488164944059,-0.021474625947494125,-0.00793682318682041,0.018808713603738855,-0.03197477798130681,-0.008833717621197964,-0.02988210634385353,-0.008575927437256234,-0.01238604788122646,-0.030134697410741172,-0.020451458997184285,-0.024528945002789515,-0.015541620528641753,-0.045749542813429016,-0.027386386796982555,-0.0075112619663611,-0.011363774657590331,-0.0040344841067520175,-0.005465912844579497,-0.0118705384003283,-0.06545871230588729,-0.047876568461402584,-0.03486008822933128,0.005452826869629366,0.014901926863909268,0.011019328678287628,-0.00722280321046401,-0.012626232643198055,-0.008430565889524955,-0.0013198191074010688,-0.022682901660600906,-0.011295119707750538,-0.005926323122333018,-0.020992678362280515,-0.24682874228404306,-0.03678801212761619,-0.018352614592459168,0.0008659344243305663,-0.03296432629871561,0.1700147128679439,-0.025143278727097387,-0.017332791150297767,0.22610188593328687,-0.0285549699260806,0.002285845681198225,-0.017342628642423485,-0.02217532781314282,-8.23872442662668e-05,-0.00778190720463,-0.010141763730527662,-0.05402643770170154,-0.010308363200554569,-0.014645518651848285,0.012132641417734708,-0.010258557179979087,-0.012971535020333597,0.0011741673449299436,0.10359996225991477,-0.0327437353666957,-0.02935487172126221,0.0009309105521878601,-0.007660256362026184,-0.06827976309786447,-0.03950719998248584,-0.003329149620407418,-0.027878223107915056,-0.047002964291408156,-0.020714394905635237,0.01016926462753089,-0.023264773797850382,0.0018210834948679659,-0.02373334832715929,0.0030352598891108303,-0.026747841697637262,-0.052336276001411476,-0.0067441257404620035,0.006741705392081928,-0.015871246561973477,-0.024197353988544657,-0.024080027963705664,-0.011646368797265213,-0.00914829259002644,-0.009630482770112584,-0.05104328475461114]},{\"axis\":{\"matches\":true},\"label\":\"PC 3 (9.3%)\",\"values\":[-0.061460439823935335,-0.021615644088958066,0.018421447066843167,-0.0031115746107425518,-0.050881141414172514,-0.0015743653954859232,0.0075553274711077055,0.0285594760218389,0.00557288104149827,0.008074679781176973,0.00611983589053231,-0.016775621319619627,0.09135315079267053,-0.006535541628685961,0.00040641760217563825,-0.021190112597832097,-0.003157043350803778,-0.11803795184776836,-0.08502575575081565,0.018110201914537362,0.020183352553313237,0.029676643500602944,0.2316916764133072,0.0240259424366182,-0.0215504529180488,0.0043673948220708,-0.038632318034363955,0.003024953702218593,0.037852258099761726,0.020205428583450147,-0.036324738190396236,0.032644412339396106,0.04725925603614876,0.039462738348787274,-0.1303441975641294,-0.2930565362672239,0.01610527077522812,-0.007937065011015957,-0.00014215884454894088,0.019845357778696924,0.03139302018188659,-0.0011208470802655784,0.001680389568577734,0.004538882621820004,0.03413950556768064,0.07195303733443474,-0.011188704511713304,-0.02128362076664547,0.045366263200317454,-0.11977752340672211,-0.026765826852504344,-0.054239395624917794,-0.018394359267894927,-0.02669225442632008,-0.10470501499777021,0.0210439746551499,0.0160384303758271,-0.0760325082218715,-0.17569094599441273,-0.10526761853552025,0.15094389920683135,-0.06914383886972367,0.015673037136271804,-0.0902866515479218,0.04824127960064442,0.05260851094264964,-0.0036940292549183912,-0.06655292896523872,0.03319054123626696,0.03571255566692018,0.03486519035155023,0.12870467163695257,0.03924327594783743,0.008765817684591958,0.0019778678522082375,0.02991210395193323,-0.15700712379629617,0.0005957923046155363,0.04052314346138879,-0.00033011032130207506,0.05139272334967312,0.1020437079248573,-0.06137607527505179,-0.12134311617499052,-0.020085904293419533,0.04465856284235293,0.010035857587177798,-0.14598985731163205,0.03838671756880376,0.012868899289034173,-0.008505737338721498,0.09201680551880782,-0.03463165880411728,-0.023069674073143438,-0.03988624202043423,0.019744671738964777,0.02519937634995265,-0.011364533853751732,-0.06209650424178887,0.04886002286436833,-0.22721226108418974,0.0432214010917301,0.003135657333824012,-0.011358925193062582,0.07376687925208206,0.08565245037634858,0.09725089920040576,0.008604363843297455,0.02038519221041293,-0.07852184016752654,-0.028388227516123146,-0.04591782486090558,0.01950111442348819,0.0644643315601111,0.05909214385365669,0.041171126039516684,0.04033627212794779,0.6329215736588631,0.011237097048662048,0.0309215188247437,-0.1800671699338021,0.028791527730606545,0.024914359816582222,-0.12084934316649733,0.06697981176577225,0.014791574826401296,0.033805531660717585,0.09425220297125843,0.02449684001945719,0.03804218203278878,0.2322080352720005,-0.016606111720780643,-0.03370324584511598,0.05563869548169255,0.0017959302992069878,-0.059161937302564964,0.017974138485781402,0.042364647662059315,-0.10182697903537859,0.18215460806064718,0.08145740437170482,-0.21948907615824692,0.008186640476102826,0.0008154593783142578,-0.017554321757236382,-0.014410107740524043,-0.07592625421871052,0.010977579775824751,0.04788919563596223,0.09713000447351804,0.04065539969047974,0.038798101204352585,0.16653243947693291,0.01847728889069614,0.059663222773693805,-0.14299881418341917,0.12033705066293825,-0.031917962348847334,-0.03916733156783035,0.08780738790529351,-0.02967602672875194,0.023716003894004294,0.07728389878715991,-0.08135712454038896,0.019306348624861237,0.2312419264713866,-0.051932764378088775,0.021396206909635587,-0.012142893154027945,0.0005473648221966844,-0.04392883023167387,0.10607427840646713,0.05410224841955277,0.02218064704720374,-0.03607229155202308,0.006951678704527828,-0.1207123980151867,0.03485870521302613,0.006461979391174392,-0.06577580091060396,0.03791276007468573,0.047960159407437294,-0.0056420086620136865,0.09064696024963796,-0.056750724286906695,-0.05536839013232829,0.043541109630115225,-0.036264734517973074,-0.02888092940605911,0.020606538560544622,0.04865086103499618,0.3285026058750216,-0.09558433130587464,0.023005591765190212,-0.005016499470309166,0.027860559398964396,0.029002405560076487,0.026892974563032343,0.01580445967716878,-0.01755196469775562,0.013750370225395575,-0.08673347208252216,-0.05023657094944386,0.04294836597392531,-0.0020805587404580618,-0.24764210783323423,0.011016252591052515,0.014794657090272185,0.07308263006487234,-0.007526252243072635,0.03328271983980955,-0.012032801386155482,-0.030493167026140088,0.019164309122840603,-0.11761362687154385,-0.09820839958838905,-0.10860482653891758,0.05649742926830577,-0.00955554699754456,-0.301946649613569,-0.3364325408596152,0.0995753236784799,-0.04154136402942755,0.32346263576584255,-0.05627085701227316,-0.0199109925733341,0.18244153191417425,-0.014059626986919871,-0.016654676055725185,-0.031204324641126237,0.021878221350629702,0.011458239327486939,-0.007252400483598592,-0.0010402559968050666,0.08218417464259405,0.034421845616428796,0.05856876997609433,-0.06001244623950802,0.03639071327609077,-0.04920851834008172,0.05635018977189683,0.032356118401043445,-0.04181138111328892,0.034300611110681674,0.01276647518318662,0.005995787329139348,0.021750202824415667,-0.0257249148924551,0.024797577570029535,0.026151043709131207,-0.09915650798259232,0.01819970432590911,-0.025436487258336544,0.06959021177925347,0.005851714699910616,-0.019670145812754752,-0.003024301055131677,-0.005535865810613705,-0.00213563320892262,-0.11465171776939205,-0.029991401630108824,0.01097195519867707,0.0009161895385105264,-0.01378069488677435,0.04150150307464919,-0.0016071122062375532,-0.11665479390989701,-0.04021422436874752,-0.007909666065217705,-0.05287961337241974,-0.143601750636674,-0.025244064401814256,-0.0033550107730093734,-0.012730043834759014,0.025588508347501038,0.09156479014532211,-0.13263066909774507,0.018283532425532687,0.02307962662693094,-0.012299103809654181,-0.1190549104942505,-0.07698142086875641,0.017935871947360703,0.0012472852803177786,0.05349977593042883,0.035713792620806824,-0.02466153013261838,-0.03020408481001329,-0.07922706528006129,-0.02250227222702663,0.06785807194412229,-0.008004220360091142,0.03678674121805561,0.14537469910517656,0.015803550035817984,0.021756530972367138,-0.18479404461043952,0.005292962270849469,-0.010097497204764902,-0.1075391890857284,0.016316166099871555,0.009293486067478478,0.06082423403670344,-0.13241461538582736,-0.050498276252246316,0.018491513384255434,0.0612769308338736,0.0182452150165287,-0.20437530389634487,-0.10150761880144207,0.03402741557050952,0.026449599990680847,0.08425034565901326,0.0035746427391869194,0.08101290387216287,-0.0019395524382138628,0.005008992964031061,-0.03671891308016823,0.06433973667890722,-0.05218469166114574,-0.05382665403801343,0.019650292621498335,0.07128827829475574,-0.00014935524431622068,-0.0018171879090793468,-0.03117902234284117,0.006775196005547503,-0.05715292568387951,0.03242234807698103,-0.08064655457807403]},{\"axis\":{\"matches\":true},\"label\":\"PC 4 (8.6%)\",\"values\":[0.007357742455036018,0.029664951560681236,0.07881569310812195,-0.03855823637429602,-0.036001015942426995,-0.0049608139394023585,-0.026017028616206517,-0.007469651222119276,-0.02617245887769086,-0.018755887053101765,-0.02310210521513512,0.07551683618825798,-0.0012482146554401625,-0.023209050673230876,0.035266423941436705,-0.017745960839055316,-0.032442799600201695,0.09873075938695879,-0.04360707153866816,-0.02144854762498599,-0.01968179685584786,-0.013313842012143029,0.08539558337049506,-0.009781070556616865,-0.03426792785224846,-0.013720710945387946,0.0007549981929000215,-0.009778072100812437,-0.019708023371209037,-0.020538781421330483,-0.022802121116026156,0.012243387126759098,-0.019566810322894576,-0.015577971779368198,0.11819381676821489,0.0731792958922307,-0.02739780710892483,-0.027847951342726426,-0.025353809316003315,-0.018999363727643683,-0.0016608744184366411,-0.012273614866298835,-0.02960596867602335,-0.01548862766651025,-0.05502834802676348,-0.020827750060410717,0.024250969764927306,-0.0003619739662572809,-0.017563771547046022,0.2809512726228979,-0.030081730471587437,-0.037974720361853065,-0.039855005921932495,0.05297436933673445,0.1293090677424339,0.015188605578380065,-0.020699694335075666,-0.038801995902505756,-0.21727527963364515,-0.10935785469573424,-0.08687476553125136,-0.05345580565176021,-0.03380304231427545,-0.02686674863771831,-0.04465403084477261,0.01820616947188598,0.032950392273454844,-0.039845004824031124,-0.017880679735000838,-0.015507710368074742,-0.015114411894998118,-0.028743942551181397,0.17472406617672823,0.036757474901012825,0.08187919373842478,-0.015837526491034485,-0.013573465831846094,-0.037765520493552154,-0.01790307595019146,-0.01135662269223212,-0.023201102478755245,-0.001666387134057905,-0.062353563348298016,-0.1370695422118073,-0.026207644038403272,-0.019134779855168742,-0.02931103852159303,-0.14738525933908,-0.016555096497368124,-0.017768314645033673,0.16165641233088843,0.031243509956356826,-0.03216573718983363,-0.03527830345643276,0.034831412155694755,-0.032848576375873004,-0.018357092160125932,-0.04504029123334559,-0.06859137760626717,-0.01844718584872386,0.02214414236609483,0.0060451472518306786,-0.01861417492392965,0.032351422773338884,-0.00743694258545653,-0.028873551433304823,0.08894791588767513,0.24710869360946697,-0.017262280072965604,0.056125827938709044,-0.013319023619107065,-0.01485930025867456,-0.008361612685497139,-0.009070277632489725,-0.006545943167972805,-0.014234000607343335,-0.012219003770117155,0.003970174542555289,-0.005285195998192214,-0.013132543861213795,-0.07186870118259,-0.002913725033455392,-0.03495074164872173,-0.06323304761202253,-0.010884352963312686,-0.022751618363043763,-0.01658283766924742,-0.010357423892764003,-0.020605622719665564,0.05433954365035429,0.003628865420635046,-0.03145205086567276,-0.04474935815210124,0.0027837480563827686,-0.023121520723659812,-0.03966110260218221,0.0014391956940393474,-0.0138771547160132,-0.0071461782098495045,0.09036781054681876,0.0053123151419046,-0.09946351481664317,-0.02473120832921763,-0.024299462019251292,0.03130331900553927,-0.018026971268429684,-0.05989514855655668,-0.017369333668710317,-0.029369868201889603,-0.1165696001108264,-0.01877993588969936,-0.008198773955752399,-0.003712143476398143,0.044433731286376524,-0.041149905846402886,0.18822364535893174,-0.059660909846344735,-0.021118901148914012,0.054616121262025814,0.15773228287874833,-0.023054048818201157,0.006015843435638227,-0.007030079887368934,0.19535194278690834,-0.023283810568794968,0.08521706211612969,0.9092747442918959,-0.019453970379860457,-0.02905253422441449,-0.025093832235592854,0.09289012382316524,-0.009339853189376263,-0.015904063430505683,-0.011494059906578168,-0.03077715916614451,-0.0051011082957985905,0.07774375343923064,-0.01626514350249557,-0.026079154131833555,-0.04202311348312828,-0.014630884936958133,-0.010480859475911848,-0.007639167691068165,-0.00653327465487897,-0.023678541087921817,-0.039974555668623325,-0.014951339656269548,-0.038611438885201646,-0.027446734020728468,-0.02067581904646758,-0.011117516768747535,0.012242665269567103,-0.06121627973198205,-0.005946754975330594,0.0027638988741152276,-0.0075373169168675815,0.03037238544757284,-0.0009888774187717295,-0.00821225852497483,-0.022001848559325125,0.04834473021918397,-0.014095934741750714,0.08195951606070624,-0.03278427721500996,-0.037466147039885045,-0.12937751302148376,-0.018726660219065324,-0.023015375202063842,-0.01940010038501161,-0.01647208554223916,-0.00840157971016118,-0.007892920188841426,-0.0275042675911189,-0.021855195837908053,-0.09513667681714824,0.09144323724100066,0.3102625919163022,-0.009223992226415543,0.20579053176642115,-0.14756689125498826,-0.0761881621893727,0.023391092525064505,0.054573954475610635,0.006086004382495412,0.21211923714352887,-0.007485894907947893,0.009389210890797984,0.1403878354253335,0.13208707800550018,-0.01588198709469534,-0.020124009706247573,-0.01720960911694282,-0.02244247589299548,-0.018380896037988963,-0.008729459312413599,-0.015397171679893564,0.024731600488149156,0.04099817971727342,-0.012660944060708473,-0.007472014392498351,-0.016094758857960936,-0.006796461894800574,-0.042565657038809684,-0.004906448723986941,-0.02133876057589032,-0.0234430771827133,0.05514536049346874,0.0021354018528352225,-0.020069621758300203,0.14578215557273716,-0.05857579031982367,-0.01902304254904936,0.019607172263459417,-0.01599376797699095,-0.022909974421917757,-0.0344505630534966,-0.025461643890681392,-0.030677997432875057,-0.017608649679742034,-0.05116697396510284,0.010735935265785397,0.00642390296042274,-0.0295178133595259,-0.030133610671159203,-0.01870899340868131,-0.024520754688005648,-0.06314486780023526,0.0019524545525745967,-0.026817278024141272,0.15017661355471448,0.40765140197201943,0.010416837950064319,0.012265824518242223,0.02396668068167509,-0.020307507683010942,-0.005435257441333508,0.09639496981183182,-0.021580330507404478,-0.01187245207329942,-0.0005156186293451857,-0.1324359622847253,-0.03537765056792709,-0.023519716572317845,-0.033499300562062295,0.07353924212115043,-0.038060183692363955,-0.03291868736089427,0.004427976598811462,-0.0845985912303528,-0.02139853468729245,-0.0025725645195980983,-0.026958111564932895,-0.030079925660873547,-0.011270676596788296,-0.018417434320453535,-0.021282380275838196,-0.06315481112835404,-0.0007022551963825711,-0.003629477991520696,0.305686814849384,-0.020908813285837824,-0.023873760200657818,-0.011775170113372691,0.02666136319413979,-0.03522434079762195,-0.03555940870532478,-0.011806080287646807,-0.019093932500504403,-0.04298030011597698,-0.01674862329382958,-0.015771003267707653,-0.020335553325404838,-0.034769751324973876,-0.02814318471956607,-0.008893141986227848,-0.03037185671557155,-0.017770895343409532,-0.03341042030537412,-0.01018050526331501,-0.03523555522390687,0.04550149883982388,-0.016399357019368465,-0.018070880293303032,-0.02095678278503179,-0.032591830802544595,-0.03327109932569847,-0.022477926544970758,-0.042137511873314756,-0.020240633448640598,-0.05161451378317274]}],\"hovertemplate\":\"%{xaxis.title.text}=%{x}<br>%{yaxis.title.text}=%{y}<extra></extra>\",\"legendgroup\":\"\",\"marker\":{\"color\":\"#636efa\",\"symbol\":\"circle\"},\"name\":\"\",\"showlegend\":false,\"type\":\"splom\",\"diagonal\":{\"visible\":false}}],                        {\"template\":{\"data\":{\"bar\":[{\"error_x\":{\"color\":\"#2a3f5f\"},\"error_y\":{\"color\":\"#2a3f5f\"},\"marker\":{\"line\":{\"color\":\"#E5ECF6\",\"width\":0.5},\"pattern\":{\"fillmode\":\"overlay\",\"size\":10,\"solidity\":0.2}},\"type\":\"bar\"}],\"barpolar\":[{\"marker\":{\"line\":{\"color\":\"#E5ECF6\",\"width\":0.5},\"pattern\":{\"fillmode\":\"overlay\",\"size\":10,\"solidity\":0.2}},\"type\":\"barpolar\"}],\"carpet\":[{\"aaxis\":{\"endlinecolor\":\"#2a3f5f\",\"gridcolor\":\"white\",\"linecolor\":\"white\",\"minorgridcolor\":\"white\",\"startlinecolor\":\"#2a3f5f\"},\"baxis\":{\"endlinecolor\":\"#2a3f5f\",\"gridcolor\":\"white\",\"linecolor\":\"white\",\"minorgridcolor\":\"white\",\"startlinecolor\":\"#2a3f5f\"},\"type\":\"carpet\"}],\"choropleth\":[{\"colorbar\":{\"outlinewidth\":0,\"ticks\":\"\"},\"type\":\"choropleth\"}],\"contour\":[{\"colorbar\":{\"outlinewidth\":0,\"ticks\":\"\"},\"colorscale\":[[0.0,\"#0d0887\"],[0.1111111111111111,\"#46039f\"],[0.2222222222222222,\"#7201a8\"],[0.3333333333333333,\"#9c179e\"],[0.4444444444444444,\"#bd3786\"],[0.5555555555555556,\"#d8576b\"],[0.6666666666666666,\"#ed7953\"],[0.7777777777777778,\"#fb9f3a\"],[0.8888888888888888,\"#fdca26\"],[1.0,\"#f0f921\"]],\"type\":\"contour\"}],\"contourcarpet\":[{\"colorbar\":{\"outlinewidth\":0,\"ticks\":\"\"},\"type\":\"contourcarpet\"}],\"heatmap\":[{\"colorbar\":{\"outlinewidth\":0,\"ticks\":\"\"},\"colorscale\":[[0.0,\"#0d0887\"],[0.1111111111111111,\"#46039f\"],[0.2222222222222222,\"#7201a8\"],[0.3333333333333333,\"#9c179e\"],[0.4444444444444444,\"#bd3786\"],[0.5555555555555556,\"#d8576b\"],[0.6666666666666666,\"#ed7953\"],[0.7777777777777778,\"#fb9f3a\"],[0.8888888888888888,\"#fdca26\"],[1.0,\"#f0f921\"]],\"type\":\"heatmap\"}],\"heatmapgl\":[{\"colorbar\":{\"outlinewidth\":0,\"ticks\":\"\"},\"colorscale\":[[0.0,\"#0d0887\"],[0.1111111111111111,\"#46039f\"],[0.2222222222222222,\"#7201a8\"],[0.3333333333333333,\"#9c179e\"],[0.4444444444444444,\"#bd3786\"],[0.5555555555555556,\"#d8576b\"],[0.6666666666666666,\"#ed7953\"],[0.7777777777777778,\"#fb9f3a\"],[0.8888888888888888,\"#fdca26\"],[1.0,\"#f0f921\"]],\"type\":\"heatmapgl\"}],\"histogram\":[{\"marker\":{\"pattern\":{\"fillmode\":\"overlay\",\"size\":10,\"solidity\":0.2}},\"type\":\"histogram\"}],\"histogram2d\":[{\"colorbar\":{\"outlinewidth\":0,\"ticks\":\"\"},\"colorscale\":[[0.0,\"#0d0887\"],[0.1111111111111111,\"#46039f\"],[0.2222222222222222,\"#7201a8\"],[0.3333333333333333,\"#9c179e\"],[0.4444444444444444,\"#bd3786\"],[0.5555555555555556,\"#d8576b\"],[0.6666666666666666,\"#ed7953\"],[0.7777777777777778,\"#fb9f3a\"],[0.8888888888888888,\"#fdca26\"],[1.0,\"#f0f921\"]],\"type\":\"histogram2d\"}],\"histogram2dcontour\":[{\"colorbar\":{\"outlinewidth\":0,\"ticks\":\"\"},\"colorscale\":[[0.0,\"#0d0887\"],[0.1111111111111111,\"#46039f\"],[0.2222222222222222,\"#7201a8\"],[0.3333333333333333,\"#9c179e\"],[0.4444444444444444,\"#bd3786\"],[0.5555555555555556,\"#d8576b\"],[0.6666666666666666,\"#ed7953\"],[0.7777777777777778,\"#fb9f3a\"],[0.8888888888888888,\"#fdca26\"],[1.0,\"#f0f921\"]],\"type\":\"histogram2dcontour\"}],\"mesh3d\":[{\"colorbar\":{\"outlinewidth\":0,\"ticks\":\"\"},\"type\":\"mesh3d\"}],\"parcoords\":[{\"line\":{\"colorbar\":{\"outlinewidth\":0,\"ticks\":\"\"}},\"type\":\"parcoords\"}],\"pie\":[{\"automargin\":true,\"type\":\"pie\"}],\"scatter\":[{\"marker\":{\"colorbar\":{\"outlinewidth\":0,\"ticks\":\"\"}},\"type\":\"scatter\"}],\"scatter3d\":[{\"line\":{\"colorbar\":{\"outlinewidth\":0,\"ticks\":\"\"}},\"marker\":{\"colorbar\":{\"outlinewidth\":0,\"ticks\":\"\"}},\"type\":\"scatter3d\"}],\"scattercarpet\":[{\"marker\":{\"colorbar\":{\"outlinewidth\":0,\"ticks\":\"\"}},\"type\":\"scattercarpet\"}],\"scattergeo\":[{\"marker\":{\"colorbar\":{\"outlinewidth\":0,\"ticks\":\"\"}},\"type\":\"scattergeo\"}],\"scattergl\":[{\"marker\":{\"colorbar\":{\"outlinewidth\":0,\"ticks\":\"\"}},\"type\":\"scattergl\"}],\"scattermapbox\":[{\"marker\":{\"colorbar\":{\"outlinewidth\":0,\"ticks\":\"\"}},\"type\":\"scattermapbox\"}],\"scatterpolar\":[{\"marker\":{\"colorbar\":{\"outlinewidth\":0,\"ticks\":\"\"}},\"type\":\"scatterpolar\"}],\"scatterpolargl\":[{\"marker\":{\"colorbar\":{\"outlinewidth\":0,\"ticks\":\"\"}},\"type\":\"scatterpolargl\"}],\"scatterternary\":[{\"marker\":{\"colorbar\":{\"outlinewidth\":0,\"ticks\":\"\"}},\"type\":\"scatterternary\"}],\"surface\":[{\"colorbar\":{\"outlinewidth\":0,\"ticks\":\"\"},\"colorscale\":[[0.0,\"#0d0887\"],[0.1111111111111111,\"#46039f\"],[0.2222222222222222,\"#7201a8\"],[0.3333333333333333,\"#9c179e\"],[0.4444444444444444,\"#bd3786\"],[0.5555555555555556,\"#d8576b\"],[0.6666666666666666,\"#ed7953\"],[0.7777777777777778,\"#fb9f3a\"],[0.8888888888888888,\"#fdca26\"],[1.0,\"#f0f921\"]],\"type\":\"surface\"}],\"table\":[{\"cells\":{\"fill\":{\"color\":\"#EBF0F8\"},\"line\":{\"color\":\"white\"}},\"header\":{\"fill\":{\"color\":\"#C8D4E3\"},\"line\":{\"color\":\"white\"}},\"type\":\"table\"}]},\"layout\":{\"annotationdefaults\":{\"arrowcolor\":\"#2a3f5f\",\"arrowhead\":0,\"arrowwidth\":1},\"autotypenumbers\":\"strict\",\"coloraxis\":{\"colorbar\":{\"outlinewidth\":0,\"ticks\":\"\"}},\"colorscale\":{\"diverging\":[[0,\"#8e0152\"],[0.1,\"#c51b7d\"],[0.2,\"#de77ae\"],[0.3,\"#f1b6da\"],[0.4,\"#fde0ef\"],[0.5,\"#f7f7f7\"],[0.6,\"#e6f5d0\"],[0.7,\"#b8e186\"],[0.8,\"#7fbc41\"],[0.9,\"#4d9221\"],[1,\"#276419\"]],\"sequential\":[[0.0,\"#0d0887\"],[0.1111111111111111,\"#46039f\"],[0.2222222222222222,\"#7201a8\"],[0.3333333333333333,\"#9c179e\"],[0.4444444444444444,\"#bd3786\"],[0.5555555555555556,\"#d8576b\"],[0.6666666666666666,\"#ed7953\"],[0.7777777777777778,\"#fb9f3a\"],[0.8888888888888888,\"#fdca26\"],[1.0,\"#f0f921\"]],\"sequentialminus\":[[0.0,\"#0d0887\"],[0.1111111111111111,\"#46039f\"],[0.2222222222222222,\"#7201a8\"],[0.3333333333333333,\"#9c179e\"],[0.4444444444444444,\"#bd3786\"],[0.5555555555555556,\"#d8576b\"],[0.6666666666666666,\"#ed7953\"],[0.7777777777777778,\"#fb9f3a\"],[0.8888888888888888,\"#fdca26\"],[1.0,\"#f0f921\"]]},\"colorway\":[\"#636efa\",\"#EF553B\",\"#00cc96\",\"#ab63fa\",\"#FFA15A\",\"#19d3f3\",\"#FF6692\",\"#B6E880\",\"#FF97FF\",\"#FECB52\"],\"font\":{\"color\":\"#2a3f5f\"},\"geo\":{\"bgcolor\":\"white\",\"lakecolor\":\"white\",\"landcolor\":\"#E5ECF6\",\"showlakes\":true,\"showland\":true,\"subunitcolor\":\"white\"},\"hoverlabel\":{\"align\":\"left\"},\"hovermode\":\"closest\",\"mapbox\":{\"style\":\"light\"},\"paper_bgcolor\":\"white\",\"plot_bgcolor\":\"#E5ECF6\",\"polar\":{\"angularaxis\":{\"gridcolor\":\"white\",\"linecolor\":\"white\",\"ticks\":\"\"},\"bgcolor\":\"#E5ECF6\",\"radialaxis\":{\"gridcolor\":\"white\",\"linecolor\":\"white\",\"ticks\":\"\"}},\"scene\":{\"xaxis\":{\"backgroundcolor\":\"#E5ECF6\",\"gridcolor\":\"white\",\"gridwidth\":2,\"linecolor\":\"white\",\"showbackground\":true,\"ticks\":\"\",\"zerolinecolor\":\"white\"},\"yaxis\":{\"backgroundcolor\":\"#E5ECF6\",\"gridcolor\":\"white\",\"gridwidth\":2,\"linecolor\":\"white\",\"showbackground\":true,\"ticks\":\"\",\"zerolinecolor\":\"white\"},\"zaxis\":{\"backgroundcolor\":\"#E5ECF6\",\"gridcolor\":\"white\",\"gridwidth\":2,\"linecolor\":\"white\",\"showbackground\":true,\"ticks\":\"\",\"zerolinecolor\":\"white\"}},\"shapedefaults\":{\"line\":{\"color\":\"#2a3f5f\"}},\"ternary\":{\"aaxis\":{\"gridcolor\":\"white\",\"linecolor\":\"white\",\"ticks\":\"\"},\"baxis\":{\"gridcolor\":\"white\",\"linecolor\":\"white\",\"ticks\":\"\"},\"bgcolor\":\"#E5ECF6\",\"caxis\":{\"gridcolor\":\"white\",\"linecolor\":\"white\",\"ticks\":\"\"}},\"title\":{\"x\":0.05},\"xaxis\":{\"automargin\":true,\"gridcolor\":\"white\",\"linecolor\":\"white\",\"ticks\":\"\",\"title\":{\"standoff\":15},\"zerolinecolor\":\"white\",\"zerolinewidth\":2},\"yaxis\":{\"automargin\":true,\"gridcolor\":\"white\",\"linecolor\":\"white\",\"ticks\":\"\",\"title\":{\"standoff\":15},\"zerolinecolor\":\"white\",\"zerolinewidth\":2}}},\"legend\":{\"tracegroupgap\":0},\"margin\":{\"t\":60},\"dragmode\":\"select\"},                        {\"responsive\": true}                    ).then(function(){\n",
              "                            \n",
              "var gd = document.getElementById('9f6ecf55-9f3c-4e7f-85ea-a50884e8fdde');\n",
              "var x = new MutationObserver(function (mutations, observer) {{\n",
              "        var display = window.getComputedStyle(gd).display;\n",
              "        if (!display || display === 'none') {{\n",
              "            console.log([gd, 'removed!']);\n",
              "            Plotly.purge(gd);\n",
              "            observer.disconnect();\n",
              "        }}\n",
              "}});\n",
              "\n",
              "// Listen for the removal of the full notebook cells\n",
              "var notebookContainer = gd.closest('#notebook-container');\n",
              "if (notebookContainer) {{\n",
              "    x.observe(notebookContainer, {childList: true});\n",
              "}}\n",
              "\n",
              "// Listen for the clearing of the current output cell\n",
              "var outputEl = gd.closest('.output');\n",
              "if (outputEl) {{\n",
              "    x.observe(outputEl, {childList: true});\n",
              "}}\n",
              "\n",
              "                        })                };                            </script>        </div>\n",
              "</body>\n",
              "</html>"
            ]
          },
          "metadata": {}
        }
      ]
    },
    {
      "cell_type": "code",
      "source": [
        "pca = PCA(n_components=2)\n",
        "\n",
        "printcipalComponents = pca.fit_transform(data_scale)\n",
        "\n",
        "PCA_df = pd.DataFrame(data=printcipalComponents, columns = ['principal component1','principal component2'])\n",
        "\n",
        "pca.explained_variance_ratio_"
      ],
      "metadata": {
        "colab": {
          "base_uri": "https://localhost:8080/"
        },
        "id": "7GeNCpsIhD2e",
        "outputId": "d622573a-1100-4062-810b-785dbe8d38d3"
      },
      "execution_count": null,
      "outputs": [
        {
          "output_type": "execute_result",
          "data": {
            "text/plain": [
              "array([0.57742675, 0.10663122])"
            ]
          },
          "metadata": {},
          "execution_count": 32
        }
      ]
    },
    {
      "cell_type": "code",
      "source": [
        "PCA_df"
      ],
      "metadata": {
        "colab": {
          "base_uri": "https://localhost:8080/",
          "height": 424
        },
        "id": "LBWa_q5Ajx9K",
        "outputId": "41924db0-2ea9-4919-8fba-28a5218f003e"
      },
      "execution_count": null,
      "outputs": [
        {
          "output_type": "execute_result",
          "data": {
            "text/plain": [
              "     principal component1  principal component2\n",
              "0               -0.019301             -0.019744\n",
              "1                0.120609             -0.030933\n",
              "2                0.479901             -0.052792\n",
              "3                0.026381             -0.042819\n",
              "4                0.018448              0.016172\n",
              "..                    ...                   ...\n",
              "325             -0.055412             -0.024080\n",
              "326             -0.153334             -0.011646\n",
              "327              0.008736             -0.009148\n",
              "328             -0.069127             -0.009630\n",
              "329              0.054066             -0.051043\n",
              "\n",
              "[330 rows x 2 columns]"
            ],
            "text/html": [
              "\n",
              "  <div id=\"df-41553443-4106-484f-8cf3-8571a12f12c4\">\n",
              "    <div class=\"colab-df-container\">\n",
              "      <div>\n",
              "<style scoped>\n",
              "    .dataframe tbody tr th:only-of-type {\n",
              "        vertical-align: middle;\n",
              "    }\n",
              "\n",
              "    .dataframe tbody tr th {\n",
              "        vertical-align: top;\n",
              "    }\n",
              "\n",
              "    .dataframe thead th {\n",
              "        text-align: right;\n",
              "    }\n",
              "</style>\n",
              "<table border=\"1\" class=\"dataframe\">\n",
              "  <thead>\n",
              "    <tr style=\"text-align: right;\">\n",
              "      <th></th>\n",
              "      <th>principal component1</th>\n",
              "      <th>principal component2</th>\n",
              "    </tr>\n",
              "  </thead>\n",
              "  <tbody>\n",
              "    <tr>\n",
              "      <th>0</th>\n",
              "      <td>-0.019301</td>\n",
              "      <td>-0.019744</td>\n",
              "    </tr>\n",
              "    <tr>\n",
              "      <th>1</th>\n",
              "      <td>0.120609</td>\n",
              "      <td>-0.030933</td>\n",
              "    </tr>\n",
              "    <tr>\n",
              "      <th>2</th>\n",
              "      <td>0.479901</td>\n",
              "      <td>-0.052792</td>\n",
              "    </tr>\n",
              "    <tr>\n",
              "      <th>3</th>\n",
              "      <td>0.026381</td>\n",
              "      <td>-0.042819</td>\n",
              "    </tr>\n",
              "    <tr>\n",
              "      <th>4</th>\n",
              "      <td>0.018448</td>\n",
              "      <td>0.016172</td>\n",
              "    </tr>\n",
              "    <tr>\n",
              "      <th>...</th>\n",
              "      <td>...</td>\n",
              "      <td>...</td>\n",
              "    </tr>\n",
              "    <tr>\n",
              "      <th>325</th>\n",
              "      <td>-0.055412</td>\n",
              "      <td>-0.024080</td>\n",
              "    </tr>\n",
              "    <tr>\n",
              "      <th>326</th>\n",
              "      <td>-0.153334</td>\n",
              "      <td>-0.011646</td>\n",
              "    </tr>\n",
              "    <tr>\n",
              "      <th>327</th>\n",
              "      <td>0.008736</td>\n",
              "      <td>-0.009148</td>\n",
              "    </tr>\n",
              "    <tr>\n",
              "      <th>328</th>\n",
              "      <td>-0.069127</td>\n",
              "      <td>-0.009630</td>\n",
              "    </tr>\n",
              "    <tr>\n",
              "      <th>329</th>\n",
              "      <td>0.054066</td>\n",
              "      <td>-0.051043</td>\n",
              "    </tr>\n",
              "  </tbody>\n",
              "</table>\n",
              "<p>330 rows × 2 columns</p>\n",
              "</div>\n",
              "      <button class=\"colab-df-convert\" onclick=\"convertToInteractive('df-41553443-4106-484f-8cf3-8571a12f12c4')\"\n",
              "              title=\"Convert this dataframe to an interactive table.\"\n",
              "              style=\"display:none;\">\n",
              "        \n",
              "  <svg xmlns=\"http://www.w3.org/2000/svg\" height=\"24px\"viewBox=\"0 0 24 24\"\n",
              "       width=\"24px\">\n",
              "    <path d=\"M0 0h24v24H0V0z\" fill=\"none\"/>\n",
              "    <path d=\"M18.56 5.44l.94 2.06.94-2.06 2.06-.94-2.06-.94-.94-2.06-.94 2.06-2.06.94zm-11 1L8.5 8.5l.94-2.06 2.06-.94-2.06-.94L8.5 2.5l-.94 2.06-2.06.94zm10 10l.94 2.06.94-2.06 2.06-.94-2.06-.94-.94-2.06-.94 2.06-2.06.94z\"/><path d=\"M17.41 7.96l-1.37-1.37c-.4-.4-.92-.59-1.43-.59-.52 0-1.04.2-1.43.59L10.3 9.45l-7.72 7.72c-.78.78-.78 2.05 0 2.83L4 21.41c.39.39.9.59 1.41.59.51 0 1.02-.2 1.41-.59l7.78-7.78 2.81-2.81c.8-.78.8-2.07 0-2.86zM5.41 20L4 18.59l7.72-7.72 1.47 1.35L5.41 20z\"/>\n",
              "  </svg>\n",
              "      </button>\n",
              "      \n",
              "  <style>\n",
              "    .colab-df-container {\n",
              "      display:flex;\n",
              "      flex-wrap:wrap;\n",
              "      gap: 12px;\n",
              "    }\n",
              "\n",
              "    .colab-df-convert {\n",
              "      background-color: #E8F0FE;\n",
              "      border: none;\n",
              "      border-radius: 50%;\n",
              "      cursor: pointer;\n",
              "      display: none;\n",
              "      fill: #1967D2;\n",
              "      height: 32px;\n",
              "      padding: 0 0 0 0;\n",
              "      width: 32px;\n",
              "    }\n",
              "\n",
              "    .colab-df-convert:hover {\n",
              "      background-color: #E2EBFA;\n",
              "      box-shadow: 0px 1px 2px rgba(60, 64, 67, 0.3), 0px 1px 3px 1px rgba(60, 64, 67, 0.15);\n",
              "      fill: #174EA6;\n",
              "    }\n",
              "\n",
              "    [theme=dark] .colab-df-convert {\n",
              "      background-color: #3B4455;\n",
              "      fill: #D2E3FC;\n",
              "    }\n",
              "\n",
              "    [theme=dark] .colab-df-convert:hover {\n",
              "      background-color: #434B5C;\n",
              "      box-shadow: 0px 1px 3px 1px rgba(0, 0, 0, 0.15);\n",
              "      filter: drop-shadow(0px 1px 2px rgba(0, 0, 0, 0.3));\n",
              "      fill: #FFFFFF;\n",
              "    }\n",
              "  </style>\n",
              "\n",
              "      <script>\n",
              "        const buttonEl =\n",
              "          document.querySelector('#df-41553443-4106-484f-8cf3-8571a12f12c4 button.colab-df-convert');\n",
              "        buttonEl.style.display =\n",
              "          google.colab.kernel.accessAllowed ? 'block' : 'none';\n",
              "\n",
              "        async function convertToInteractive(key) {\n",
              "          const element = document.querySelector('#df-41553443-4106-484f-8cf3-8571a12f12c4');\n",
              "          const dataTable =\n",
              "            await google.colab.kernel.invokeFunction('convertToInteractive',\n",
              "                                                     [key], {});\n",
              "          if (!dataTable) return;\n",
              "\n",
              "          const docLinkHtml = 'Like what you see? Visit the ' +\n",
              "            '<a target=\"_blank\" href=https://colab.research.google.com/notebooks/data_table.ipynb>data table notebook</a>'\n",
              "            + ' to learn more about interactive tables.';\n",
              "          element.innerHTML = '';\n",
              "          dataTable['output_type'] = 'display_data';\n",
              "          await google.colab.output.renderOutput(dataTable, element);\n",
              "          const docLink = document.createElement('div');\n",
              "          docLink.innerHTML = docLinkHtml;\n",
              "          element.appendChild(docLink);\n",
              "        }\n",
              "      </script>\n",
              "    </div>\n",
              "  </div>\n",
              "  "
            ]
          },
          "metadata": {},
          "execution_count": 33
        }
      ]
    },
    {
      "cell_type": "code",
      "source": [
        "from sklearn.cluster import KMeans\n",
        "import matplotlib.pyplot as plt\n",
        "import seaborn as sns"
      ],
      "metadata": {
        "id": "_ce6C-93kDg7"
      },
      "execution_count": null,
      "outputs": []
    },
    {
      "cell_type": "code",
      "source": [
        "kmeans_per_k = [KMeans(n_clusters=k, random_state=42).fit(PCA_df)\n",
        "                for k in range(1, 10)]\n",
        "inertias = [model.inertia_ for model in kmeans_per_k]"
      ],
      "metadata": {
        "id": "Ev1gwqAmkGzR"
      },
      "execution_count": null,
      "outputs": []
    },
    {
      "cell_type": "code",
      "source": [
        "import numpy as np"
      ],
      "metadata": {
        "id": "01p865YfkP57"
      },
      "execution_count": null,
      "outputs": []
    },
    {
      "cell_type": "code",
      "source": [
        "ks = range(1,10)\n",
        "inertias = []\n",
        "for k in ks:\n",
        "  model = KMeans(n_clusters=k)\n",
        "  model.fit(PCA_df)\n",
        "  inertias.append(model.inertia_)\n",
        "  # Plot ks vs inertias\n",
        "plt.plot(ks, inertias, '-o')\n",
        "plt.xlabel('number of clusters, k')\n",
        "plt.ylabel('inertia')\n",
        "plt.xticks(ks)\n",
        "plt.show()\n",
        " "
      ],
      "metadata": {
        "colab": {
          "base_uri": "https://localhost:8080/",
          "height": 279
        },
        "id": "IAyMLFNRkQZN",
        "outputId": "16441e69-6b1d-406e-c6c7-d7e1a73a937a"
      },
      "execution_count": null,
      "outputs": [
        {
          "output_type": "display_data",
          "data": {
            "text/plain": [
              "<Figure size 432x288 with 1 Axes>"
            ],
            "image/png": "[encoded data removed]"
          },
          "metadata": {
            "needs_background": "light"
          }
        }
      ]
    },
    {
      "cell_type": "code",
      "source": [
        "k = 2\n",
        "kmeans = KMeans(n_clusters=k, random_state=42)\n",
        "y_pred = kmeans.fit_predict(PCA_df)"
      ],
      "metadata": {
        "id": "MC5DBQivkXBu"
      },
      "execution_count": null,
      "outputs": []
    },
    {
      "cell_type": "code",
      "source": [
        "kmeans_per_k = [KMeans(n_clusters=k, random_state=42).fit(X)\n",
        "                for k in range(1, 10)]\n",
        "inertias = [model.inertia_ for model in kmeans_per_k]"
      ],
      "metadata": {
        "id": "GaNQuNlZDfXK"
      },
      "execution_count": null,
      "outputs": []
    },
    {
      "cell_type": "code",
      "source": [
        "kmeans.labels_"
      ],
      "metadata": {
        "colab": {
          "base_uri": "https://localhost:8080/"
        },
        "id": "yy8LKqyogOsu",
        "outputId": "c54e1dd8-ac54-4900-f580-ec8d3c871517"
      },
      "execution_count": null,
      "outputs": [
        {
          "output_type": "execute_result",
          "data": {
            "text/plain": [
              "array([1, 1, 0, 1, 1, 1, 1, 1, 1, 1, 1, 1, 1, 1, 1, 1, 1, 1, 1, 1, 1, 1,\n",
              "       0, 1, 1, 1, 1, 1, 1, 1, 1, 1, 1, 1, 1, 1, 1, 1, 1, 1, 1, 1, 1, 1,\n",
              "       1, 1, 1, 1, 1, 1, 1, 1, 1, 1, 1, 1, 1, 1, 0, 0, 0, 1, 1, 1, 1, 1,\n",
              "       1, 1, 1, 1, 1, 0, 1, 1, 1, 1, 1, 1, 1, 1, 1, 1, 1, 0, 1, 1, 1, 1,\n",
              "       1, 1, 1, 1, 1, 1, 1, 1, 1, 1, 0, 1, 1, 1, 1, 1, 1, 1, 1, 1, 1, 1,\n",
              "       1, 1, 1, 1, 1, 1, 1, 0, 1, 1, 1, 1, 1, 1, 1, 1, 1, 1, 1, 1, 0, 1,\n",
              "       1, 1, 1, 1, 1, 1, 1, 0, 1, 0, 1, 1, 1, 1, 1, 1, 1, 0, 1, 1, 1, 1,\n",
              "       0, 0, 0, 1, 1, 1, 1, 1, 1, 1, 1, 0, 0, 1, 1, 1, 1, 0, 1, 1, 1, 1,\n",
              "       1, 1, 1, 1, 1, 1, 1, 1, 1, 1, 1, 1, 1, 1, 1, 0, 0, 1, 1, 1, 1, 1,\n",
              "       1, 1, 1, 1, 1, 1, 1, 0, 1, 1, 1, 1, 1, 1, 1, 1, 0, 1, 1, 1, 1, 0,\n",
              "       0, 1, 1, 0, 1, 1, 1, 1, 1, 1, 1, 1, 1, 1, 1, 1, 1, 1, 1, 1, 1, 1,\n",
              "       1, 1, 1, 1, 1, 1, 1, 1, 1, 1, 1, 1, 1, 1, 1, 1, 1, 1, 1, 1, 1, 1,\n",
              "       1, 1, 1, 0, 1, 1, 1, 1, 1, 1, 1, 1, 1, 1, 1, 1, 0, 1, 1, 1, 1, 1,\n",
              "       1, 1, 1, 1, 1, 1, 1, 0, 1, 1, 1, 1, 1, 1, 1, 1, 1, 0, 1, 1, 1, 1,\n",
              "       1, 1, 1, 1, 1, 1, 1, 1, 1, 1, 1, 1, 1, 1, 1, 1, 1, 1, 1, 1, 1, 1],\n",
              "      dtype=int32)"
            ]
          },
          "metadata": {},
          "execution_count": 40
        }
      ]
    },
    {
      "cell_type": "code",
      "source": [
        "kmeans.cluster_centers_"
      ],
      "metadata": {
        "colab": {
          "base_uri": "https://localhost:8080/"
        },
        "id": "gv4PeCTak_MN",
        "outputId": "1f94b72c-bd45-4d75-b725-adea8c8855f5"
      },
      "execution_count": null,
      "outputs": [
        {
          "output_type": "execute_result",
          "data": {
            "text/plain": [
              "array([[ 0.50864904,  0.05350699],\n",
              "       [-0.0508649 , -0.0053507 ]])"
            ]
          },
          "metadata": {},
          "execution_count": 41
        }
      ]
    },
    {
      "cell_type": "code",
      "source": [
        "from sklearn.metrics import silhouette_score"
      ],
      "metadata": {
        "id": "u22nI5WslCi6"
      },
      "execution_count": null,
      "outputs": []
    },
    {
      "cell_type": "code",
      "source": [
        "silhouette_score(PCA_df, kmeans.labels_)"
      ],
      "metadata": {
        "colab": {
          "base_uri": "https://localhost:8080/"
        },
        "id": "8ALuDzIwlFPN",
        "outputId": "2bcd8201-c0d8-4aa3-b7bb-5a9a3f90432f"
      },
      "execution_count": null,
      "outputs": [
        {
          "output_type": "execute_result",
          "data": {
            "text/plain": [
              "0.7415777524859332"
            ]
          },
          "metadata": {},
          "execution_count": 48
        }
      ]
    },
    {
      "cell_type": "code",
      "source": [
        "silhouette_scores = [silhouette_score(PCA_df, model.labels_)\n",
        "                     for model in kmeans_per_k[1:]]"
      ],
      "metadata": {
        "id": "H-ACWGBLlHvM"
      },
      "execution_count": null,
      "outputs": []
    },
    {
      "cell_type": "code",
      "source": [
        "plt.figure(figsize=(8, 3))\n",
        "plt.plot(range(2, 10), silhouette_scores, \"bo-\")\n",
        "plt.xlabel(\"$k$\", fontsize=14)\n",
        "plt.ylabel(\"Silhouette score\", fontsize=14)\n",
        "plt.axis([1.8, 8.5, 0.55, 0.7])\n",
        "plt.show()"
      ],
      "metadata": {
        "colab": {
          "base_uri": "https://localhost:8080/",
          "height": 234
        },
        "id": "GylavR9JllYy",
        "outputId": "25986d6f-5efc-4128-d618-1b4354d641ec"
      },
      "execution_count": null,
      "outputs": [
        {
          "output_type": "display_data",
          "data": {
            "text/plain": [
              "<Figure size 576x216 with 1 Axes>"
            ],
            "image/png": "[encoded data removed]"
          },
          "metadata": {
            "needs_background": "light"
          }
        }
      ]
    },
    {
      "cell_type": "code",
      "source": [
        "kmeans_per_k = [KMeans(n_clusters=k, random_state=42).fit(PCA_df) for k in range(1, 10)]"
      ],
      "metadata": {
        "id": "UX6u5-uflzD-"
      },
      "execution_count": null,
      "outputs": []
    },
    {
      "cell_type": "code",
      "source": [
        "from sklearn.metrics import silhouette_samples\n",
        "from matplotlib.ticker import FixedLocator, FixedFormatter\n",
        "import matplotlib as mpl\n",
        "import matplotlib.pyplot as plt\n",
        "\n",
        "plt.figure(figsize=(11, 9))\n",
        "\n",
        "for k, n in zip((2, 3, 4, 5),(1,2,3,4)):\n",
        "    plt.subplot(2, 2, n)\n",
        "    \n",
        "    y_pred = kmeans_per_k[k - 1].labels_\n",
        "    silhouette_coefficients = silhouette_samples(PCA_df, y_pred)\n",
        "\n",
        "    padding = len(X) // 30\n",
        "    pos = padding\n",
        "    ticks = []\n",
        "    for i in range(k):\n",
        "        coeffs = silhouette_coefficients[y_pred == i]\n",
        "        coeffs.sort()\n",
        "\n",
        "        color = mpl.cm.Spectral(i / k)\n",
        "        plt.fill_betweenx(np.arange(pos, pos + len(coeffs)), 0, coeffs,\n",
        "                          facecolor=color, edgecolor=color, alpha=0.7)\n",
        "        ticks.append(pos + len(coeffs) // 2)\n",
        "        pos += len(coeffs) + padding\n",
        "\n",
        "    plt.gca().yaxis.set_major_locator(FixedLocator(ticks))\n",
        "    plt.gca().yaxis.set_major_formatter(FixedFormatter(range(k)))\n",
        "    if k in (3, 5):\n",
        "        plt.ylabel(\"Cluster\")\n",
        "    \n",
        "    if k in (5, 6):\n",
        "        plt.gca().set_xticks([-0.1, 0, 0.2, 0.4, 0.6, 0.8, 1])\n",
        "    else:\n",
        "        plt.tick_params(labelbottom=False)\n",
        "\n",
        "    plt.axvline(x=silhouette_scores[k - 2], color=\"red\", linestyle=\"--\")\n",
        "    plt.title(\"$k={}$\".format(k), fontsize=16)\n",
        "\n",
        "plt.show()"
      ],
      "metadata": {
        "colab": {
          "base_uri": "https://localhost:8080/",
          "height": 556
        },
        "id": "4f1D3ESwmA0I",
        "outputId": "a8cd40cc-78c0-4081-d1c9-b9b7523c6d77"
      },
      "execution_count": null,
      "outputs": [
        {
          "output_type": "display_data",
          "data": {
            "text/plain": [
              "<Figure size 792x648 with 4 Axes>"
            ],
            "image/png": "[encoded data removed]"
          },
          "metadata": {
            "needs_background": "light"
          }
        }
      ]
    },
    {
      "cell_type": "code",
      "source": [
        "import numpy as np"
      ],
      "metadata": {
        "id": "9Kg3RePCEBMM"
      },
      "execution_count": null,
      "outputs": []
    },
    {
      "cell_type": "code",
      "source": [
        "ks = range(1,10)\n",
        "inertias = []\n",
        "for k in ks:\n",
        "  model = KMeans(n_clusters=k)\n",
        "  model.fit(data_scale)\n",
        "  inertias.append(model.inertia_)\n",
        "  # Plot ks vs inertias\n",
        "plt.plot(ks, inertias, '-o')\n",
        "plt.xlabel('number of clusters, k')\n",
        "plt.ylabel('inertia')\n",
        "plt.xticks(ks)\n",
        "plt.show()\n",
        " "
      ],
      "metadata": {
        "colab": {
          "base_uri": "https://localhost:8080/",
          "height": 279
        },
        "id": "ChN0LpXnpJaZ",
        "outputId": "b52ae526-f250-4d6d-db1c-d74eac29e508"
      },
      "execution_count": null,
      "outputs": [
        {
          "output_type": "display_data",
          "data": {
            "text/plain": [
              "<Figure size 432x288 with 1 Axes>"
            ],
            "image/png": "[encoded data removed]"
          },
          "metadata": {
            "needs_background": "light"
          }
        }
      ]
    },
    {
      "cell_type": "code",
      "source": [
        "k = 5\n",
        "kmeans = KMeans(n_clusters=k, random_state=42)\n",
        "y_pred = kmeans.fit_predict(data_scale)"
      ],
      "metadata": {
        "id": "NCqHDAO3KSqF"
      },
      "execution_count": null,
      "outputs": []
    },
    {
      "cell_type": "code",
      "source": [
        "kmeans.labels_"
      ],
      "metadata": {
        "colab": {
          "base_uri": "https://localhost:8080/"
        },
        "id": "OqO8oFhjKUmq",
        "outputId": "f7fc0807-bd09-4dfe-bfc2-145b7b915581"
      },
      "execution_count": null,
      "outputs": [
        {
          "output_type": "execute_result",
          "data": {
            "text/plain": [
              "array([0, 0, 3, 0, 0, 1, 1, 1, 1, 1, 1, 1, 1, 1, 0, 1, 0, 0, 0, 1, 1, 1,\n",
              "       3, 0, 0, 1, 1, 1, 0, 1, 0, 1, 0, 1, 0, 0, 1, 1, 1, 1, 1, 1, 0, 1,\n",
              "       0, 1, 1, 1, 1, 0, 1, 1, 0, 1, 0, 1, 1, 0, 4, 4, 4, 0, 0, 0, 0, 1,\n",
              "       1, 1, 1, 1, 1, 3, 0, 0, 1, 1, 0, 0, 1, 1, 1, 0, 0, 4, 0, 0, 1, 4,\n",
              "       1, 1, 0, 1, 1, 0, 1, 0, 1, 1, 3, 1, 0, 0, 1, 0, 0, 1, 3, 0, 1, 0,\n",
              "       1, 0, 1, 1, 1, 1, 1, 2, 1, 1, 0, 1, 0, 0, 1, 1, 1, 1, 1, 1, 3, 1,\n",
              "       0, 3, 1, 1, 0, 1, 0, 3, 1, 0, 1, 1, 0, 1, 0, 1, 1, 2, 1, 1, 3, 0,\n",
              "       3, 3, 3, 1, 0, 0, 0, 1, 1, 0, 1, 3, 3, 1, 1, 0, 0, 3, 1, 1, 1, 1,\n",
              "       0, 1, 1, 1, 1, 1, 0, 1, 1, 1, 1, 0, 0, 1, 1, 2, 3, 1, 1, 1, 1, 1,\n",
              "       1, 1, 1, 0, 0, 1, 1, 3, 1, 1, 0, 1, 1, 1, 1, 1, 3, 0, 0, 1, 0, 3,\n",
              "       2, 3, 0, 3, 1, 1, 1, 0, 1, 1, 1, 1, 1, 1, 1, 0, 1, 0, 1, 0, 1, 1,\n",
              "       0, 0, 1, 1, 1, 1, 1, 0, 0, 1, 0, 1, 1, 1, 1, 1, 1, 0, 0, 1, 1, 1,\n",
              "       1, 1, 0, 3, 0, 1, 0, 0, 1, 1, 1, 1, 0, 1, 1, 1, 2, 0, 0, 1, 0, 1,\n",
              "       1, 1, 1, 0, 1, 1, 3, 3, 1, 1, 0, 1, 1, 0, 1, 1, 1, 3, 1, 0, 1, 1,\n",
              "       0, 0, 1, 1, 3, 0, 1, 0, 1, 1, 1, 1, 0, 1, 1, 1, 0, 1, 1, 0, 1, 0],\n",
              "      dtype=int32)"
            ]
          },
          "metadata": {},
          "execution_count": 65
        }
      ]
    },
    {
      "cell_type": "code",
      "source": [
        "data = kmeans.labels_"
      ],
      "metadata": {
        "id": "FnBQXI0670yo"
      },
      "execution_count": null,
      "outputs": []
    },
    {
      "cell_type": "code",
      "source": [
        "data = pd.DataFrame(data)"
      ],
      "metadata": {
        "id": "iWnCwkT06vYK"
      },
      "execution_count": null,
      "outputs": []
    },
    {
      "cell_type": "code",
      "source": [
        "data.to_csv('kmeans_label.csv',encoding='utf-8-sig')"
      ],
      "metadata": {
        "id": "XNMdZTgO77DD"
      },
      "execution_count": null,
      "outputs": []
    },
    {
      "cell_type": "code",
      "source": [
        "kmeans.cluster_centers_"
      ],
      "metadata": {
        "colab": {
          "base_uri": "https://localhost:8080/"
        },
        "id": "LA0gKGIxKw0o",
        "outputId": "f1fa592a-49f8-4e26-9d89-d3421b8470bb"
      },
      "execution_count": null,
      "outputs": [
        {
          "output_type": "execute_result",
          "data": {
            "text/plain": [
              "array([[0.01315781, 0.0232819 , 0.21134182, 0.04750266, 0.06329257,\n",
              "        0.00813793, 0.06702291, 0.13318222],\n",
              "       [0.00966404, 0.00799752, 0.07441041, 0.00900465, 0.01677993,\n",
              "        0.00153545, 0.01412361, 0.05415482],\n",
              "       [0.07422693, 0.0160979 , 0.59422893, 0.64295429, 0.59998265,\n",
              "        0.34319381, 0.05777402, 0.81215163],\n",
              "       [0.04319282, 0.01255055, 0.25830043, 0.20928058, 0.19811153,\n",
              "        0.04428556, 0.08880418, 0.35515222],\n",
              "       [0.67808304, 0.01421322, 0.23625261, 0.11438401, 0.12867167,\n",
              "        0.00151249, 0.0240705 , 0.2967454 ]])"
            ]
          },
          "metadata": {},
          "execution_count": 66
        }
      ]
    },
    {
      "cell_type": "code",
      "source": [
        "pip install factor_analyzer"
      ],
      "metadata": {
        "colab": {
          "base_uri": "https://localhost:8080/"
        },
        "id": "HdtaYPAdE8_1",
        "outputId": "4dd94835-d54e-4b63-fc36-bb1991b17a5b"
      },
      "execution_count": null,
      "outputs": [
        {
          "output_type": "stream",
          "name": "stdout",
          "text": [
            "Looking in indexes: https://pypi.org/simple, https://us-python.pkg.dev/colab-wheels/public/simple/\n",
            "Collecting factor_analyzer\n",
            "  Downloading factor_analyzer-0.4.0.tar.gz (41 kB)\n",
            "\u001b[K     |████████████████████████████████| 41 kB 413 kB/s \n",
            "\u001b[?25hRequirement already satisfied: pandas in /usr/local/lib/python3.7/dist-packages (from factor_analyzer) (1.3.5)\n",
            "Requirement already satisfied: scipy in /usr/local/lib/python3.7/dist-packages (from factor_analyzer) (1.4.1)\n",
            "Requirement already satisfied: numpy in /usr/local/lib/python3.7/dist-packages (from factor_analyzer) (1.21.6)\n",
            "Requirement already satisfied: scikit-learn in /usr/local/lib/python3.7/dist-packages (from factor_analyzer) (1.0.2)\n",
            "Requirement already satisfied: pytz>=2017.3 in /usr/local/lib/python3.7/dist-packages (from pandas->factor_analyzer) (2022.1)\n",
            "Requirement already satisfied: python-dateutil>=2.7.3 in /usr/local/lib/python3.7/dist-packages (from pandas->factor_analyzer) (2.8.2)\n",
            "Requirement already satisfied: six>=1.5 in /usr/local/lib/python3.7/dist-packages (from python-dateutil>=2.7.3->pandas->factor_analyzer) (1.15.0)\n",
            "Requirement already satisfied: threadpoolctl>=2.0.0 in /usr/local/lib/python3.7/dist-packages (from scikit-learn->factor_analyzer) (3.1.0)\n",
            "Requirement already satisfied: joblib>=0.11 in /usr/local/lib/python3.7/dist-packages (from scikit-learn->factor_analyzer) (1.1.0)\n",
            "Building wheels for collected packages: factor-analyzer\n",
            "  Building wheel for factor-analyzer (setup.py) ... \u001b[?25l\u001b[?25hdone\n",
            "  Created wheel for factor-analyzer: filename=factor_analyzer-0.4.0-py3-none-any.whl size=41455 sha256=0f3ef1495f9601e137af3ad63287497f968a812aa21bc6e5b4306dfed36feb15\n",
            "  Stored in directory: /root/.cache/pip/wheels/ac/00/37/1f0e8a5039f9e9f207c4405bbce0796f07701eb377bfc6cc76\n",
            "Successfully built factor-analyzer\n",
            "Installing collected packages: factor-analyzer\n",
            "Successfully installed factor-analyzer-0.4.0\n"
          ]
        }
      ]
    },
    {
      "cell_type": "code",
      "source": [
        "from factor_analyzer import FactorAnalyzer"
      ],
      "metadata": {
        "id": "Y4Q2NIpyENqN"
      },
      "execution_count": null,
      "outputs": []
    },
    {
      "cell_type": "code",
      "source": [
        "import matplotlib.pyplot as plt"
      ],
      "metadata": {
        "id": "29hMQcXpEU0F"
      },
      "execution_count": null,
      "outputs": []
    },
    {
      "cell_type": "code",
      "source": [
        "df1.columns"
      ],
      "metadata": {
        "colab": {
          "base_uri": "https://localhost:8080/"
        },
        "id": "aDSpQ-GXFC9V",
        "outputId": "6319d326-ac4d-47b3-f8c2-bb222d9b6680"
      },
      "execution_count": null,
      "outputs": [
        {
          "output_type": "execute_result",
          "data": {
            "text/plain": [
              "Index(['행정동', '교과학원분야_소비인구', '동네가게_소비인구', '약국분야_소비인구', '외식 일식 소비 인구',\n",
              "       '중식/양식 소비인구', '유흥분야_소비인구', '자동차관련_소비인구', '면적 대비 커피 소비 인구', 'label'],\n",
              "      dtype='object')"
            ]
          },
          "metadata": {},
          "execution_count": 29
        }
      ]
    },
    {
      "cell_type": "code",
      "source": [
        "factor_col = ['교과학원분야_소비인구', '동네가게_소비인구', '약국분야_소비인구', '외식 일식 소비 인구',\n",
        "       '중식/양식 소비인구', '유흥분야_소비인구', '자동차관련_소비인구', '면적 대비 커피 소비 인구']"
      ],
      "metadata": {
        "id": "Ue-AvDWUFL5p"
      },
      "execution_count": null,
      "outputs": []
    },
    {
      "cell_type": "code",
      "source": [
        "output = pd.DataFrame(data_scale, columns=factor_col)"
      ],
      "metadata": {
        "id": "VxDycnFRG1pr"
      },
      "execution_count": null,
      "outputs": []
    },
    {
      "cell_type": "code",
      "source": [
        "from factor_analyzer.factor_analyzer import calculate_bartlett_sphericity\n",
        "\n",
        "chi_square_value,p_value=calculate_bartlett_sphericity(output)\n",
        "\n",
        "chi_square_value, p_value"
      ],
      "metadata": {
        "colab": {
          "base_uri": "https://localhost:8080/"
        },
        "id": "Jcv4_cIoFWrX",
        "outputId": "3fb33a38-6270-48fe-ae5a-86dcfe30e98d"
      },
      "execution_count": null,
      "outputs": [
        {
          "output_type": "execute_result",
          "data": {
            "text/plain": [
              "(1415.0768424204018, 9.560488133491457e-281)"
            ]
          },
          "metadata": {},
          "execution_count": 36
        }
      ]
    },
    {
      "cell_type": "code",
      "source": [
        "p_value < 0.5"
      ],
      "metadata": {
        "colab": {
          "base_uri": "https://localhost:8080/"
        },
        "id": "mEEUtFV3FsHN",
        "outputId": "22b2a1c3-4b60-4765-ee0d-ff82d695a594"
      },
      "execution_count": null,
      "outputs": [
        {
          "output_type": "execute_result",
          "data": {
            "text/plain": [
              "True"
            ]
          },
          "metadata": {},
          "execution_count": 37
        }
      ]
    },
    {
      "cell_type": "code",
      "source": [
        "from factor_analyzer.factor_analyzer import calculate_kmo\n",
        "\n",
        "kmo_all,kmo_model=calculate_kmo(output)\n",
        "\n",
        "kmo_model"
      ],
      "metadata": {
        "colab": {
          "base_uri": "https://localhost:8080/"
        },
        "id": "_zs8SSfDHd19",
        "outputId": "0a60c775-f5f6-4529-c01b-d47ea0c3a019"
      },
      "execution_count": null,
      "outputs": [
        {
          "output_type": "stream",
          "name": "stderr",
          "text": [
            "/usr/local/lib/python3.7/dist-packages/factor_analyzer/utils.py:249: UserWarning: The inverse of the variance-covariance matrix was calculated using the Moore-Penrose generalized matrix inversion, due to its determinant being at or very close to zero.\n",
            "  warnings.warn('The inverse of the variance-covariance matrix '\n"
          ]
        },
        {
          "output_type": "execute_result",
          "data": {
            "text/plain": [
              "0.7796492120340193"
            ]
          },
          "metadata": {},
          "execution_count": 38
        }
      ]
    },
    {
      "cell_type": "code",
      "source": [
        "output_corr = output.corr(method = 'pearson')"
      ],
      "metadata": {
        "id": "HRaE8bs8VUDg"
      },
      "execution_count": null,
      "outputs": []
    },
    {
      "cell_type": "code",
      "source": [
        "output_corr"
      ],
      "metadata": {
        "colab": {
          "base_uri": "https://localhost:8080/",
          "height": 396
        },
        "id": "gpkdEYLUVagb",
        "outputId": "479b9812-790c-427a-bbff-09ad320a8f3c"
      },
      "execution_count": null,
      "outputs": [
        {
          "output_type": "execute_result",
          "data": {
            "text/plain": [
              "                교과학원분야_소비인구  동네가게_소비인구  약국분야_소비인구  외식 일식 소비 인구  중식/양식 소비인구  \\\n",
              "교과학원분야_소비인구        1.000000  -0.003817   0.194694     0.192163    0.209246   \n",
              "동네가게_소비인구         -0.003817   1.000000   0.042191     0.042038    0.057559   \n",
              "약국분야_소비인구          0.194694   0.042191   1.000000     0.681156    0.711937   \n",
              "외식 일식 소비 인구        0.192163   0.042038   0.681156     1.000000    0.948870   \n",
              "중식/양식 소비인구         0.209246   0.057559   0.711937     0.948870    1.000000   \n",
              "유흥분야_소비인구          0.019193  -0.007125   0.354173     0.371712    0.367752   \n",
              "자동차관련_소비인구         0.080733  -0.010564   0.175935     0.170855    0.184699   \n",
              "면적 대비 커피 소비 인구     0.254438   0.045042   0.566433     0.749273    0.716691   \n",
              "\n",
              "                유흥분야_소비인구  자동차관련_소비인구  면적 대비 커피 소비 인구  \n",
              "교과학원분야_소비인구      0.019193    0.080733        0.254438  \n",
              "동네가게_소비인구       -0.007125   -0.010564        0.045042  \n",
              "약국분야_소비인구        0.354173    0.175935        0.566433  \n",
              "외식 일식 소비 인구      0.371712    0.170855        0.749273  \n",
              "중식/양식 소비인구       0.367752    0.184699        0.716691  \n",
              "유흥분야_소비인구        1.000000    0.049482        0.510584  \n",
              "자동차관련_소비인구       0.049482    1.000000        0.188746  \n",
              "면적 대비 커피 소비 인구   0.510584    0.188746        1.000000  "
            ],
            "text/html": [
              "\n",
              "  <div id=\"df-e9fe86fa-dcbb-41b5-94c0-3c9263b7a18a\">\n",
              "    <div class=\"colab-df-container\">\n",
              "      <div>\n",
              "<style scoped>\n",
              "    .dataframe tbody tr th:only-of-type {\n",
              "        vertical-align: middle;\n",
              "    }\n",
              "\n",
              "    .dataframe tbody tr th {\n",
              "        vertical-align: top;\n",
              "    }\n",
              "\n",
              "    .dataframe thead th {\n",
              "        text-align: right;\n",
              "    }\n",
              "</style>\n",
              "<table border=\"1\" class=\"dataframe\">\n",
              "  <thead>\n",
              "    <tr style=\"text-align: right;\">\n",
              "      <th></th>\n",
              "      <th>교과학원분야_소비인구</th>\n",
              "      <th>동네가게_소비인구</th>\n",
              "      <th>약국분야_소비인구</th>\n",
              "      <th>외식 일식 소비 인구</th>\n",
              "      <th>중식/양식 소비인구</th>\n",
              "      <th>유흥분야_소비인구</th>\n",
              "      <th>자동차관련_소비인구</th>\n",
              "      <th>면적 대비 커피 소비 인구</th>\n",
              "    </tr>\n",
              "  </thead>\n",
              "  <tbody>\n",
              "    <tr>\n",
              "      <th>교과학원분야_소비인구</th>\n",
              "      <td>1.000000</td>\n",
              "      <td>-0.003817</td>\n",
              "      <td>0.194694</td>\n",
              "      <td>0.192163</td>\n",
              "      <td>0.209246</td>\n",
              "      <td>0.019193</td>\n",
              "      <td>0.080733</td>\n",
              "      <td>0.254438</td>\n",
              "    </tr>\n",
              "    <tr>\n",
              "      <th>동네가게_소비인구</th>\n",
              "      <td>-0.003817</td>\n",
              "      <td>1.000000</td>\n",
              "      <td>0.042191</td>\n",
              "      <td>0.042038</td>\n",
              "      <td>0.057559</td>\n",
              "      <td>-0.007125</td>\n",
              "      <td>-0.010564</td>\n",
              "      <td>0.045042</td>\n",
              "    </tr>\n",
              "    <tr>\n",
              "      <th>약국분야_소비인구</th>\n",
              "      <td>0.194694</td>\n",
              "      <td>0.042191</td>\n",
              "      <td>1.000000</td>\n",
              "      <td>0.681156</td>\n",
              "      <td>0.711937</td>\n",
              "      <td>0.354173</td>\n",
              "      <td>0.175935</td>\n",
              "      <td>0.566433</td>\n",
              "    </tr>\n",
              "    <tr>\n",
              "      <th>외식 일식 소비 인구</th>\n",
              "      <td>0.192163</td>\n",
              "      <td>0.042038</td>\n",
              "      <td>0.681156</td>\n",
              "      <td>1.000000</td>\n",
              "      <td>0.948870</td>\n",
              "      <td>0.371712</td>\n",
              "      <td>0.170855</td>\n",
              "      <td>0.749273</td>\n",
              "    </tr>\n",
              "    <tr>\n",
              "      <th>중식/양식 소비인구</th>\n",
              "      <td>0.209246</td>\n",
              "      <td>0.057559</td>\n",
              "      <td>0.711937</td>\n",
              "      <td>0.948870</td>\n",
              "      <td>1.000000</td>\n",
              "      <td>0.367752</td>\n",
              "      <td>0.184699</td>\n",
              "      <td>0.716691</td>\n",
              "    </tr>\n",
              "    <tr>\n",
              "      <th>유흥분야_소비인구</th>\n",
              "      <td>0.019193</td>\n",
              "      <td>-0.007125</td>\n",
              "      <td>0.354173</td>\n",
              "      <td>0.371712</td>\n",
              "      <td>0.367752</td>\n",
              "      <td>1.000000</td>\n",
              "      <td>0.049482</td>\n",
              "      <td>0.510584</td>\n",
              "    </tr>\n",
              "    <tr>\n",
              "      <th>자동차관련_소비인구</th>\n",
              "      <td>0.080733</td>\n",
              "      <td>-0.010564</td>\n",
              "      <td>0.175935</td>\n",
              "      <td>0.170855</td>\n",
              "      <td>0.184699</td>\n",
              "      <td>0.049482</td>\n",
              "      <td>1.000000</td>\n",
              "      <td>0.188746</td>\n",
              "    </tr>\n",
              "    <tr>\n",
              "      <th>면적 대비 커피 소비 인구</th>\n",
              "      <td>0.254438</td>\n",
              "      <td>0.045042</td>\n",
              "      <td>0.566433</td>\n",
              "      <td>0.749273</td>\n",
              "      <td>0.716691</td>\n",
              "      <td>0.510584</td>\n",
              "      <td>0.188746</td>\n",
              "      <td>1.000000</td>\n",
              "    </tr>\n",
              "  </tbody>\n",
              "</table>\n",
              "</div>\n",
              "      <button class=\"colab-df-convert\" onclick=\"convertToInteractive('df-e9fe86fa-dcbb-41b5-94c0-3c9263b7a18a')\"\n",
              "              title=\"Convert this dataframe to an interactive table.\"\n",
              "              style=\"display:none;\">\n",
              "        \n",
              "  <svg xmlns=\"http://www.w3.org/2000/svg\" height=\"24px\"viewBox=\"0 0 24 24\"\n",
              "       width=\"24px\">\n",
              "    <path d=\"M0 0h24v24H0V0z\" fill=\"none\"/>\n",
              "    <path d=\"M18.56 5.44l.94 2.06.94-2.06 2.06-.94-2.06-.94-.94-2.06-.94 2.06-2.06.94zm-11 1L8.5 8.5l.94-2.06 2.06-.94-2.06-.94L8.5 2.5l-.94 2.06-2.06.94zm10 10l.94 2.06.94-2.06 2.06-.94-2.06-.94-.94-2.06-.94 2.06-2.06.94z\"/><path d=\"M17.41 7.96l-1.37-1.37c-.4-.4-.92-.59-1.43-.59-.52 0-1.04.2-1.43.59L10.3 9.45l-7.72 7.72c-.78.78-.78 2.05 0 2.83L4 21.41c.39.39.9.59 1.41.59.51 0 1.02-.2 1.41-.59l7.78-7.78 2.81-2.81c.8-.78.8-2.07 0-2.86zM5.41 20L4 18.59l7.72-7.72 1.47 1.35L5.41 20z\"/>\n",
              "  </svg>\n",
              "      </button>\n",
              "      \n",
              "  <style>\n",
              "    .colab-df-container {\n",
              "      display:flex;\n",
              "      flex-wrap:wrap;\n",
              "      gap: 12px;\n",
              "    }\n",
              "\n",
              "    .colab-df-convert {\n",
              "      background-color: #E8F0FE;\n",
              "      border: none;\n",
              "      border-radius: 50%;\n",
              "      cursor: pointer;\n",
              "      display: none;\n",
              "      fill: #1967D2;\n",
              "      height: 32px;\n",
              "      padding: 0 0 0 0;\n",
              "      width: 32px;\n",
              "    }\n",
              "\n",
              "    .colab-df-convert:hover {\n",
              "      background-color: #E2EBFA;\n",
              "      box-shadow: 0px 1px 2px rgba(60, 64, 67, 0.3), 0px 1px 3px 1px rgba(60, 64, 67, 0.15);\n",
              "      fill: #174EA6;\n",
              "    }\n",
              "\n",
              "    [theme=dark] .colab-df-convert {\n",
              "      background-color: #3B4455;\n",
              "      fill: #D2E3FC;\n",
              "    }\n",
              "\n",
              "    [theme=dark] .colab-df-convert:hover {\n",
              "      background-color: #434B5C;\n",
              "      box-shadow: 0px 1px 3px 1px rgba(0, 0, 0, 0.15);\n",
              "      filter: drop-shadow(0px 1px 2px rgba(0, 0, 0, 0.3));\n",
              "      fill: #FFFFFF;\n",
              "    }\n",
              "  </style>\n",
              "\n",
              "      <script>\n",
              "        const buttonEl =\n",
              "          document.querySelector('#df-e9fe86fa-dcbb-41b5-94c0-3c9263b7a18a button.colab-df-convert');\n",
              "        buttonEl.style.display =\n",
              "          google.colab.kernel.accessAllowed ? 'block' : 'none';\n",
              "\n",
              "        async function convertToInteractive(key) {\n",
              "          const element = document.querySelector('#df-e9fe86fa-dcbb-41b5-94c0-3c9263b7a18a');\n",
              "          const dataTable =\n",
              "            await google.colab.kernel.invokeFunction('convertToInteractive',\n",
              "                                                     [key], {});\n",
              "          if (!dataTable) return;\n",
              "\n",
              "          const docLinkHtml = 'Like what you see? Visit the ' +\n",
              "            '<a target=\"_blank\" href=https://colab.research.google.com/notebooks/data_table.ipynb>data table notebook</a>'\n",
              "            + ' to learn more about interactive tables.';\n",
              "          element.innerHTML = '';\n",
              "          dataTable['output_type'] = 'display_data';\n",
              "          await google.colab.output.renderOutput(dataTable, element);\n",
              "          const docLink = document.createElement('div');\n",
              "          docLink.innerHTML = docLinkHtml;\n",
              "          element.appendChild(docLink);\n",
              "        }\n",
              "      </script>\n",
              "    </div>\n",
              "  </div>\n",
              "  "
            ]
          },
          "metadata": {},
          "execution_count": 48
        }
      ]
    },
    {
      "cell_type": "code",
      "source": [
        "factor_analyzer=FactorAnalyzer(method='principal', n_factors=4, rotation=None, is_corr_matrix=False)\n",
        "\n",
        "factor_analyzer.fit(output)"
      ],
      "metadata": {
        "colab": {
          "base_uri": "https://localhost:8080/"
        },
        "id": "gl-zMo-SVhwI",
        "outputId": "f387aff8-2460-41b8-a3be-2b006b4e2c55"
      },
      "execution_count": null,
      "outputs": [
        {
          "output_type": "stream",
          "name": "stderr",
          "text": [
            "/usr/local/lib/python3.7/dist-packages/sklearn/utils/extmath.py:376: FutureWarning: If 'random_state' is not supplied, the current default is to use 0 as a fixed seed. This will change to  None in version 1.2 leading to non-deterministic results that better reflect nature of the randomized_svd solver. If you want to silence this warning, set 'random_state' to an integer seed or to None explicitly depending if you want your code to be deterministic or not.\n",
            "  FutureWarning,\n"
          ]
        },
        {
          "output_type": "execute_result",
          "data": {
            "text/plain": [
              "FactorAnalyzer(method='principal', n_factors=4, rotation=None,\n",
              "               rotation_kwargs={})"
            ]
          },
          "metadata": {},
          "execution_count": 49
        }
      ]
    },
    {
      "cell_type": "code",
      "source": [
        "factor_analyzer.loadings_"
      ],
      "metadata": {
        "colab": {
          "base_uri": "https://localhost:8080/"
        },
        "id": "-_kCDXJsVcS0",
        "outputId": "af5875d4-c80b-4e13-cab2-e5bb63b7fce1"
      },
      "execution_count": null,
      "outputs": [
        {
          "output_type": "execute_result",
          "data": {
            "text/plain": [
              "array([[ 0.30223721,  0.59163424,  0.34255387, -0.58941481],\n",
              "       [ 0.06091036, -0.48369736,  0.85503886,  0.11707966],\n",
              "       [ 0.80689043, -0.01059395,  0.01226416,  0.00095401],\n",
              "       [ 0.92485004, -0.04538592, -0.00199459, -0.01734003],\n",
              "       [ 0.92607366, -0.03240335,  0.0237797 , -0.01386968],\n",
              "       [ 0.55380639, -0.3392978 , -0.34991459,  0.05693725],\n",
              "       [ 0.26545526,  0.56610859,  0.16169803,  0.74573805],\n",
              "       [ 0.86270757, -0.03615558, -0.04036687, -0.03520206]])"
            ]
          },
          "metadata": {},
          "execution_count": 50
        }
      ]
    },
    {
      "cell_type": "code",
      "source": [
        "factor_analyzer.get_communalities()"
      ],
      "metadata": {
        "colab": {
          "base_uri": "https://localhost:8080/"
        },
        "id": "UuqSkJb9VoSD",
        "outputId": "50da0620-8bcb-40b5-eddf-e254f73a90dd"
      },
      "execution_count": null,
      "outputs": [
        {
          "output_type": "execute_result",
          "data": {
            "text/plain": [
              "array([0.90613137, 0.98247231, 0.65133571, 0.85771213, 0.85942024,\n",
              "       0.54750659, 0.97321693, 0.74844025])"
            ]
          },
          "metadata": {},
          "execution_count": 51
        }
      ]
    },
    {
      "cell_type": "code",
      "source": [
        "import matplotlib.pyplot as plt\n",
        "ev = factor_analyzer.get_eigenvalues()[1]\n",
        "plt.plot(ev)\n",
        "plt.show()\n",
        "factor_analyzer.get_eigenvalues()"
      ],
      "metadata": {
        "colab": {
          "base_uri": "https://localhost:8080/",
          "height": 341
        },
        "id": "67tKWcwnVrg7",
        "outputId": "e49c5959-2953-4720-e90d-805d3b93b841"
      },
      "execution_count": null,
      "outputs": [
        {
          "output_type": "display_data",
          "data": {
            "text/plain": [
              "<Figure size 432x288 with 1 Axes>"
            ],
            "image/png": "[encoded data removed]"
          },
          "metadata": {
            "needs_background": "light"
          }
        },
        {
          "output_type": "execute_result",
          "data": {
            "text/plain": [
              "(array([3.58052194, 1.02412546, 0.99937043, 0.9222177 , 0.73939634,\n",
              "        0.42592991, 0.2606444 , 0.04779381]),\n",
              " array([ 3.35949336e+00,  9.91458427e-01,  9.22334427e-01,  8.45114885e-01,\n",
              "         3.90474612e-01,  1.12614472e-01,  6.44308587e-04, -9.58989659e-02]))"
            ]
          },
          "metadata": {},
          "execution_count": 52
        }
      ]
    },
    {
      "cell_type": "code",
      "source": [
        "factor_analyzer.get_factor_variance()"
      ],
      "metadata": {
        "colab": {
          "base_uri": "https://localhost:8080/"
        },
        "id": "QtX3XCVsVxzm",
        "outputId": "6d2b849e-4982-4d51-c8eb-de345f7b35f6"
      },
      "execution_count": null,
      "outputs": [
        {
          "output_type": "execute_result",
          "data": {
            "text/plain": [
              "(array([3.58052194, 1.02412546, 0.99937043, 0.9222177 ]),\n",
              " array([0.44756524, 0.12801568, 0.1249213 , 0.11527721]),\n",
              " array([0.44756524, 0.57558093, 0.70050223, 0.81577944]))"
            ]
          },
          "metadata": {},
          "execution_count": 53
        }
      ]
    },
    {
      "cell_type": "code",
      "source": [
        "factor_analyzer.transform(output)"
      ],
      "metadata": {
        "colab": {
          "base_uri": "https://localhost:8080/"
        },
        "id": "2Dowt37mVzxF",
        "outputId": "d61c32c4-834d-4849-cec4-cd8cd1074371"
      },
      "execution_count": null,
      "outputs": [
        {
          "output_type": "execute_result",
          "data": {
            "text/plain": [
              "array([[-0.07390225,  0.06391065,  0.13988619,  0.2552241 ],\n",
              "       [ 0.46618052,  0.08403745, -0.08032384,  0.46776536],\n",
              "       [ 2.105506  ,  0.38524199,  0.16941843,  0.95443452],\n",
              "       ...,\n",
              "       [ 0.06992447, -0.0700393 , -0.25139084, -0.35401433],\n",
              "       [-0.39193403, -0.27604229, -0.13234123, -0.18534413],\n",
              "       [ 0.18661713, -0.33448689, -0.09098307, -0.20292433]])"
            ]
          },
          "metadata": {},
          "execution_count": 54
        }
      ]
    },
    {
      "cell_type": "code",
      "source": [
        "factor_analyzer=FactorAnalyzer(method='principal', n_factors=4, rotation='varimax', is_corr_matrix=False)\n",
        "\n",
        "factor_analyzer.fit(output)\n",
        "\n",
        "factor_analyzer.loadings_\n",
        "\n",
        "factor_analyzer.get_communalities()\n",
        "\n",
        "factor_analyzer.get_eigenvalues()\n",
        "\n",
        "factor_analyzer.get_factor_variance()\n",
        "\n",
        "factor_analyzer.transform(output)"
      ],
      "metadata": {
        "colab": {
          "base_uri": "https://localhost:8080/"
        },
        "id": "s1ps20xtWL_U",
        "outputId": "a73b0444-8b63-4c51-8e05-57822002c842"
      },
      "execution_count": null,
      "outputs": [
        {
          "output_type": "stream",
          "name": "stderr",
          "text": [
            "/usr/local/lib/python3.7/dist-packages/sklearn/utils/extmath.py:376: FutureWarning: If 'random_state' is not supplied, the current default is to use 0 as a fixed seed. This will change to  None in version 1.2 leading to non-deterministic results that better reflect nature of the randomized_svd solver. If you want to silence this warning, set 'random_state' to an integer seed or to None explicitly depending if you want your code to be deterministic or not.\n",
            "  FutureWarning,\n"
          ]
        },
        {
          "output_type": "execute_result",
          "data": {
            "text/plain": [
              "array([[-0.10652224, -0.07043135,  0.12213551,  0.25105569],\n",
              "       [ 0.43968622, -0.19871985, -0.0377526 ,  0.46411648],\n",
              "       [ 1.94633129,  0.04742669,  0.15571485,  1.30633567],\n",
              "       ...,\n",
              "       [ 0.11976878,  0.08088371, -0.22947095, -0.35323475],\n",
              "       [-0.31417459, -0.17799303, -0.02494923, -0.38816056],\n",
              "       [ 0.25638986, -0.09933457,  0.0548824 , -0.34285338]])"
            ]
          },
          "metadata": {},
          "execution_count": 55
        }
      ]
    },
    {
      "cell_type": "code",
      "source": [
        "# Create factor analysis object and perform factor analysis\n",
        "\n",
        "fa = FactorAnalyzer()\n",
        "\n",
        "fa = FactorAnalyzer()\n",
        "fa.fit(output)\n",
        "ev, vectors = fa.get_eigenvalues()\n",
        "\n",
        "ev"
      ],
      "metadata": {
        "colab": {
          "base_uri": "https://localhost:8080/"
        },
        "id": "FUPDLq2oHn8D",
        "outputId": "ceb2ef38-21cb-459b-9147-e3018c84a7a3"
      },
      "execution_count": null,
      "outputs": [
        {
          "output_type": "execute_result",
          "data": {
            "text/plain": [
              "array([3.58052194, 1.02412546, 0.99937043, 0.9222177 , 0.73939634,\n",
              "       0.42592991, 0.2606444 , 0.04779381])"
            ]
          },
          "metadata": {},
          "execution_count": 42
        }
      ]
    },
    {
      "cell_type": "code",
      "source": [
        "# Create scree plot using matplotlib\n",
        "\n",
        "plt.scatter(range(1,output.shape[1]+1),ev)\n",
        "\n",
        "plt.plot(range(1,output.shape[1]+1),ev)\n",
        "\n",
        "plt.title(\"Scree Plot\")\n",
        "\n",
        "plt.xlabel(\"Factors\")\n",
        "\n",
        "plt.ylabel(\"Eigenvalue\")\n",
        "\n",
        "plt.grid()\n",
        "\n",
        "plt.show()"
      ],
      "metadata": {
        "colab": {
          "base_uri": "https://localhost:8080/",
          "height": 295
        },
        "id": "lSl_ErjJIPxM",
        "outputId": "76b94229-7923-474a-dc05-010df884382e"
      },
      "execution_count": null,
      "outputs": [
        {
          "output_type": "display_data",
          "data": {
            "text/plain": [
              "<Figure size 432x288 with 1 Axes>"
            ],
            "image/png": "[encoded data removed]"
          },
          "metadata": {
            "needs_background": "light"
          }
        }
      ]
    },
    {
      "cell_type": "code",
      "source": [
        "fa.get_factor_variance()"
      ],
      "metadata": {
        "colab": {
          "base_uri": "https://localhost:8080/"
        },
        "id": "ekBwzc8vIxZY",
        "outputId": "e050d6d0-b4be-4822-ee89-ea77d12a73e5"
      },
      "execution_count": null,
      "outputs": [
        {
          "output_type": "execute_result",
          "data": {
            "text/plain": [
              "(array([1.81960784, 1.55868602, 0.61282821]),\n",
              " array([0.22745098, 0.19483575, 0.07660353]),\n",
              " array([0.22745098, 0.42228673, 0.49889026]))"
            ]
          },
          "metadata": {},
          "execution_count": 46
        }
      ]
    },
    {
      "cell_type": "code",
      "source": [
        "fa = FactorAnalyzer(n_factors = 3, rotation = 'varimax')\n",
        "fa.fit(output)\n",
        "efa_result = pd.DataFrame(fa.loadings_,index = factor_col )\n",
        "efa_result"
      ],
      "metadata": {
        "colab": {
          "base_uri": "https://localhost:8080/",
          "height": 300
        },
        "id": "rvUu8bohI87c",
        "outputId": "ca4e3141-05d3-4301-a54f-8e692e515a3d"
      },
      "execution_count": null,
      "outputs": [
        {
          "output_type": "execute_result",
          "data": {
            "text/plain": [
              "                       0         1         2\n",
              "교과학원분야_소비인구     0.045027 -0.002242  0.427973\n",
              "동네가게_소비인구       0.065730 -0.007624  0.002810\n",
              "약국분야_소비인구       0.549420  0.281785  0.381635\n",
              "외식 일식 소비 인구     0.839728  0.285817  0.387340\n",
              "중식/양식 소비인구      0.864026  0.270489  0.384445\n",
              "유흥분야_소비인구       0.091829  0.992989  0.045155\n",
              "자동차관련_소비인구      0.111277  0.035418  0.211495\n",
              "면적 대비 커피 소비 인구  0.465131  0.444417  0.538519"
            ],
            "text/html": [
              "\n",
              "  <div id=\"df-a8a84007-c044-4efd-ab70-aa6b27cb367f\">\n",
              "    <div class=\"colab-df-container\">\n",
              "      <div>\n",
              "<style scoped>\n",
              "    .dataframe tbody tr th:only-of-type {\n",
              "        vertical-align: middle;\n",
              "    }\n",
              "\n",
              "    .dataframe tbody tr th {\n",
              "        vertical-align: top;\n",
              "    }\n",
              "\n",
              "    .dataframe thead th {\n",
              "        text-align: right;\n",
              "    }\n",
              "</style>\n",
              "<table border=\"1\" class=\"dataframe\">\n",
              "  <thead>\n",
              "    <tr style=\"text-align: right;\">\n",
              "      <th></th>\n",
              "      <th>0</th>\n",
              "      <th>1</th>\n",
              "      <th>2</th>\n",
              "    </tr>\n",
              "  </thead>\n",
              "  <tbody>\n",
              "    <tr>\n",
              "      <th>교과학원분야_소비인구</th>\n",
              "      <td>0.045027</td>\n",
              "      <td>-0.002242</td>\n",
              "      <td>0.427973</td>\n",
              "    </tr>\n",
              "    <tr>\n",
              "      <th>동네가게_소비인구</th>\n",
              "      <td>0.065730</td>\n",
              "      <td>-0.007624</td>\n",
              "      <td>0.002810</td>\n",
              "    </tr>\n",
              "    <tr>\n",
              "      <th>약국분야_소비인구</th>\n",
              "      <td>0.549420</td>\n",
              "      <td>0.281785</td>\n",
              "      <td>0.381635</td>\n",
              "    </tr>\n",
              "    <tr>\n",
              "      <th>외식 일식 소비 인구</th>\n",
              "      <td>0.839728</td>\n",
              "      <td>0.285817</td>\n",
              "      <td>0.387340</td>\n",
              "    </tr>\n",
              "    <tr>\n",
              "      <th>중식/양식 소비인구</th>\n",
              "      <td>0.864026</td>\n",
              "      <td>0.270489</td>\n",
              "      <td>0.384445</td>\n",
              "    </tr>\n",
              "    <tr>\n",
              "      <th>유흥분야_소비인구</th>\n",
              "      <td>0.091829</td>\n",
              "      <td>0.992989</td>\n",
              "      <td>0.045155</td>\n",
              "    </tr>\n",
              "    <tr>\n",
              "      <th>자동차관련_소비인구</th>\n",
              "      <td>0.111277</td>\n",
              "      <td>0.035418</td>\n",
              "      <td>0.211495</td>\n",
              "    </tr>\n",
              "    <tr>\n",
              "      <th>면적 대비 커피 소비 인구</th>\n",
              "      <td>0.465131</td>\n",
              "      <td>0.444417</td>\n",
              "      <td>0.538519</td>\n",
              "    </tr>\n",
              "  </tbody>\n",
              "</table>\n",
              "</div>\n",
              "      <button class=\"colab-df-convert\" onclick=\"convertToInteractive('df-a8a84007-c044-4efd-ab70-aa6b27cb367f')\"\n",
              "              title=\"Convert this dataframe to an interactive table.\"\n",
              "              style=\"display:none;\">\n",
              "        \n",
              "  <svg xmlns=\"http://www.w3.org/2000/svg\" height=\"24px\"viewBox=\"0 0 24 24\"\n",
              "       width=\"24px\">\n",
              "    <path d=\"M0 0h24v24H0V0z\" fill=\"none\"/>\n",
              "    <path d=\"M18.56 5.44l.94 2.06.94-2.06 2.06-.94-2.06-.94-.94-2.06-.94 2.06-2.06.94zm-11 1L8.5 8.5l.94-2.06 2.06-.94-2.06-.94L8.5 2.5l-.94 2.06-2.06.94zm10 10l.94 2.06.94-2.06 2.06-.94-2.06-.94-.94-2.06-.94 2.06-2.06.94z\"/><path d=\"M17.41 7.96l-1.37-1.37c-.4-.4-.92-.59-1.43-.59-.52 0-1.04.2-1.43.59L10.3 9.45l-7.72 7.72c-.78.78-.78 2.05 0 2.83L4 21.41c.39.39.9.59 1.41.59.51 0 1.02-.2 1.41-.59l7.78-7.78 2.81-2.81c.8-.78.8-2.07 0-2.86zM5.41 20L4 18.59l7.72-7.72 1.47 1.35L5.41 20z\"/>\n",
              "  </svg>\n",
              "      </button>\n",
              "      \n",
              "  <style>\n",
              "    .colab-df-container {\n",
              "      display:flex;\n",
              "      flex-wrap:wrap;\n",
              "      gap: 12px;\n",
              "    }\n",
              "\n",
              "    .colab-df-convert {\n",
              "      background-color: #E8F0FE;\n",
              "      border: none;\n",
              "      border-radius: 50%;\n",
              "      cursor: pointer;\n",
              "      display: none;\n",
              "      fill: #1967D2;\n",
              "      height: 32px;\n",
              "      padding: 0 0 0 0;\n",
              "      width: 32px;\n",
              "    }\n",
              "\n",
              "    .colab-df-convert:hover {\n",
              "      background-color: #E2EBFA;\n",
              "      box-shadow: 0px 1px 2px rgba(60, 64, 67, 0.3), 0px 1px 3px 1px rgba(60, 64, 67, 0.15);\n",
              "      fill: #174EA6;\n",
              "    }\n",
              "\n",
              "    [theme=dark] .colab-df-convert {\n",
              "      background-color: #3B4455;\n",
              "      fill: #D2E3FC;\n",
              "    }\n",
              "\n",
              "    [theme=dark] .colab-df-convert:hover {\n",
              "      background-color: #434B5C;\n",
              "      box-shadow: 0px 1px 3px 1px rgba(0, 0, 0, 0.15);\n",
              "      filter: drop-shadow(0px 1px 2px rgba(0, 0, 0, 0.3));\n",
              "      fill: #FFFFFF;\n",
              "    }\n",
              "  </style>\n",
              "\n",
              "      <script>\n",
              "        const buttonEl =\n",
              "          document.querySelector('#df-a8a84007-c044-4efd-ab70-aa6b27cb367f button.colab-df-convert');\n",
              "        buttonEl.style.display =\n",
              "          google.colab.kernel.accessAllowed ? 'block' : 'none';\n",
              "\n",
              "        async function convertToInteractive(key) {\n",
              "          const element = document.querySelector('#df-a8a84007-c044-4efd-ab70-aa6b27cb367f');\n",
              "          const dataTable =\n",
              "            await google.colab.kernel.invokeFunction('convertToInteractive',\n",
              "                                                     [key], {});\n",
              "          if (!dataTable) return;\n",
              "\n",
              "          const docLinkHtml = 'Like what you see? Visit the ' +\n",
              "            '<a target=\"_blank\" href=https://colab.research.google.com/notebooks/data_table.ipynb>data table notebook</a>'\n",
              "            + ' to learn more about interactive tables.';\n",
              "          element.innerHTML = '';\n",
              "          dataTable['output_type'] = 'display_data';\n",
              "          await google.colab.output.renderOutput(dataTable, element);\n",
              "          const docLink = document.createElement('div');\n",
              "          docLink.innerHTML = docLinkHtml;\n",
              "          element.appendChild(docLink);\n",
              "        }\n",
              "      </script>\n",
              "    </div>\n",
              "  </div>\n",
              "  "
            ]
          },
          "metadata": {},
          "execution_count": 58
        }
      ]
    },
    {
      "cell_type": "code",
      "source": [
        ""
      ],
      "metadata": {
        "id": "_Wq702nvI82s"
      },
      "execution_count": null,
      "outputs": []
    }
  ]
}